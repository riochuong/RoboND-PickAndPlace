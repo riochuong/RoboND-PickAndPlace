{
 "cells": [
  {
   "cell_type": "code",
   "execution_count": 1,
   "metadata": {
    "collapsed": true
   },
   "outputs": [],
   "source": [
    "from sympy import symbols, cos, sin, pi, simplify, sqrt, atan2\n",
    "from sympy.matrices import Matrix\n",
    "import numpy as np\n",
    "from numpy import array"
   ]
  },
  {
   "cell_type": "code",
   "execution_count": 2,
   "metadata": {
    "collapsed": true
   },
   "outputs": [],
   "source": [
    "## Create symbols for joint variables\n",
    "q1, q2, q3, q4, q5, q6, q7 = symbols('q1:8') # theta_i\n",
    "d1, d2, d3, d4, d5, d6, d7 = symbols('d1:8')\n",
    "a0, a1, a2, a3, a4, a5, a6 = symbols('a0:7')\n",
    "alpha0, alpha1, alpha2, alpha3, alpha4, alpha5, alpha6 = symbols('alpha0:7')\n",
    "\n",
    "\n",
    "### KUKA KR210 ###\n",
    "s = {\n",
    "    alpha0: 0,     a0:    0,          d1: 0.75,\n",
    "    \n",
    "    alpha1: -pi/2, a1:    0.35,       d2: 0,       q2: (q2 - pi/2),\n",
    "    \n",
    "    alpha2: 0,     a2:    1.25,       d3: 0,\n",
    "    \n",
    "    alpha3: -pi/2, a3:  -0.054,       d4: 1.50,\n",
    "    \n",
    "    alpha4: pi/2,  a4:       0,       d5: 0,\n",
    "    \n",
    "    alpha5: -pi/2, a5:       0,       d6: 0,\n",
    "    \n",
    "    alpha6: 0,     a6:       0,       d7: 0.303,    q7:0\n",
    "    \n",
    "}\n"
   ]
  },
  {
   "cell_type": "code",
   "execution_count": 3,
   "metadata": {
    "collapsed": true
   },
   "outputs": [],
   "source": [
    "### HOMOGENEOUS TRANSFORMATION \n",
    "T0_1 = Matrix([[cos(q1),                        -sin(q1),             0,                  a0],\n",
    "               [sin(q1)*cos(alpha0), cos(q1)*cos(alpha0),  -sin(alpha0),     -sin(alpha0)*d1],\n",
    "               [sin(q1)*sin(alpha0), cos(q1)*sin(alpha0),   cos(alpha0),      cos(alpha0)*d1],\n",
    "               [                  0,                    0,            0,     1]])\n",
    "T0_1 = T0_1.subs(s)\n",
    "\n",
    "## T1_2\n",
    "T1_2 = Matrix([[cos(q2),                        -sin(q2),             0,                  a1],\n",
    "               [sin(q2)*cos(alpha1), cos(q2)*cos(alpha1),  -sin(alpha1),     -sin(alpha1)*d2],\n",
    "               [sin(q2)*sin(alpha1), cos(q2)*sin(alpha1),   cos(alpha1),      cos(alpha1)*d2],\n",
    "               [                  0,                    0,            0,     1]])\n",
    "T1_2 = T1_2.subs(s)\n",
    "\n",
    "## T2_3\n",
    "T2_3 = Matrix([[cos(q3),                        -sin(q3),             0,                  a2],\n",
    "               [sin(q3)*cos(alpha2), cos(q3)*cos(alpha2),  -sin(alpha2),     -sin(alpha2)*d3],\n",
    "               [sin(q3)*sin(alpha2), cos(q3)*sin(alpha2),   cos(alpha2),      cos(alpha2)*d3],\n",
    "               [                  0,                    0,            0,     1]])\n",
    "T2_3 = T2_3.subs(s)\n",
    "\n",
    "\n",
    "## T3_4\n",
    "T3_4 = Matrix([[cos(q4),                        -sin(q4),             0,                  a3],\n",
    "               [sin(q4)*cos(alpha3), cos(q4)*cos(alpha3),  -sin(alpha3),     -sin(alpha3)*d4],\n",
    "               [sin(q4)*sin(alpha3), cos(q4)*sin(alpha3),   cos(alpha3),      cos(alpha3)*d4],\n",
    "               [                  0,                    0,            0,     1]])\n",
    "T3_4 = T3_4.subs(s)\n",
    "\n",
    "\n",
    "## T4_5\n",
    "T4_5 = Matrix([[cos(q5),                        -sin(q5),             0,                  a4],\n",
    "               [sin(q5)*cos(alpha4), cos(q5)*cos(alpha4),  -sin(alpha4),     -sin(alpha4)*d5],\n",
    "               [sin(q5)*sin(alpha4), cos(q5)*sin(alpha4),   cos(alpha4),      cos(alpha4)*d5],\n",
    "               [                  0,                    0,            0,     1]])\n",
    "T4_5 = T4_5.subs(s)\n",
    "\n",
    "\n",
    "\n",
    "## T5_6\n",
    "T5_6 = Matrix([[cos(q6),                        -sin(q6),             0,                  a5],\n",
    "               [sin(q6)*cos(alpha5), cos(q6)*cos(alpha5),  -sin(alpha5),     -sin(alpha5)*d6],\n",
    "               [sin(q6)*sin(alpha5), cos(q6)*sin(alpha5),   cos(alpha5),      cos(alpha5)*d6],\n",
    "               [                  0,                    0,            0,     1]])\n",
    "T5_6 = T5_6.subs(s)\n",
    "\n",
    "## T6_G\n",
    "T6_G = Matrix([[            cos(q7),            -sin(q7),             0,                  a6],\n",
    "               [sin(q7)*cos(alpha6), cos(q7)*cos(alpha6),  -sin(alpha6),     -sin(alpha6)*d7],\n",
    "               [sin(q7)*sin(alpha6), cos(q7)*sin(alpha6),   cos(alpha6),      cos(alpha6)*d7],\n",
    "               [                  0,                    0,            0,     1]])\n",
    "T6_G = T6_G.subs(s)"
   ]
  },
  {
   "cell_type": "code",
   "execution_count": 4,
   "metadata": {},
   "outputs": [
    {
     "name": "stdout",
     "output_type": "stream",
     "text": [
      "d7\n"
     ]
    }
   ],
   "source": [
    "print d7"
   ]
  },
  {
   "cell_type": "code",
   "execution_count": 5,
   "metadata": {
    "collapsed": true
   },
   "outputs": [],
   "source": [
    "## COMPOSITION OF HOMOGENEOUS TRANSFORMS\n",
    "\n",
    "T0_2 = simplify(T0_1 * T1_2) # base_link to link_2\n",
    "T0_3 = simplify(T0_2 * T2_3) # base_link to link_3\n",
    "T0_4 = simplify(T0_3 * T3_4) # base_link to link_4\n",
    "T0_5 = simplify(T0_4 * T4_5) # base_link to link_5\n",
    "T0_6 = simplify(T0_5 * T5_6) # base_link to link_6\n",
    "T0_G = simplify(T0_6 * T6_G) # base_link to gripper_link\n"
   ]
  },
  {
   "cell_type": "code",
   "execution_count": 6,
   "metadata": {
    "collapsed": true
   },
   "outputs": [],
   "source": [
    "## Correction needed to account of orientation difference between deifintion of gripper link in URDF\n",
    "## versus DH convention\n",
    "\n",
    "R_z = Matrix([[    cos(np.pi),     -sin(np.pi),         0,            0],\n",
    "              [    sin(np.pi),      cos(np.pi),         0,            0],\n",
    "              [             0,               0,         1,            0],\n",
    "              [             0,               0,         0,            1]\n",
    "             ])\n",
    "\n",
    "R_y = Matrix([[    cos(-np.pi/2),               0,         sin(-np.pi/2),            0],\n",
    "              [                0,               1,                     0,            0],\n",
    "              [   -sin(-np.pi/2),               0,         cos(-np.pi/2),            0],\n",
    "              [             0,                  0,                     0,            1]\n",
    "             ])\n",
    "\n",
    "R_corr = simplify(R_z * R_y)"
   ]
  },
  {
   "cell_type": "code",
   "execution_count": 7,
   "metadata": {
    "scrolled": true
   },
   "outputs": [
    {
     "name": "stdout",
     "output_type": "stream",
     "text": [
      "('T0_1 = ', Matrix([\n",
      "[1.0,   0,   0,    0],\n",
      "[  0, 1.0,   0,    0],\n",
      "[  0,   0, 1.0, 0.75],\n",
      "[  0,   0,   0,  1.0]]))\n",
      "\n",
      "\n",
      "('T0_2 = ', Matrix([\n",
      "[  0, 1.0,   0, 0.35],\n",
      "[  0,   0, 1.0,    0],\n",
      "[1.0,   0,   0, 0.75],\n",
      "[  0,   0,   0,  1.0]]))\n",
      "\n",
      "\n",
      "('T0_3 = ', Matrix([\n",
      "[  0, 1.0,   0, 0.35],\n",
      "[  0,   0, 1.0,    0],\n",
      "[1.0,   0,   0,  2.0],\n",
      "[  0,   0,   0,  1.0]]))\n",
      "\n",
      "\n",
      "('T0_4 = ', Matrix([\n",
      "[  0,    0, 1.0,  1.85],\n",
      "[  0, -1.0,   0,     0],\n",
      "[1.0,    0,   0, 1.946],\n",
      "[  0,    0,   0,   1.0]]))\n",
      "\n",
      "\n",
      "\n",
      "('T0_5 = ', Matrix([\n",
      "[  0, 1.0,   0,  1.85],\n",
      "[  0,   0, 1.0,     0],\n",
      "[1.0,   0,   0, 1.946],\n",
      "[  0,   0,   0,   1.0]]))\n",
      "\n",
      "\n",
      "\n",
      "('T0_6 = ', Matrix([\n",
      "[  0,    0, 1.0,  1.85],\n",
      "[  0, -1.0,   0,     0],\n",
      "[1.0,    0,   0, 1.946],\n",
      "[  0,    0,   0,   1.0]]))\n",
      "\n",
      "\n",
      "\n",
      "('T0_G = ', Matrix([\n",
      "[  0,    0, 1.0, 2.153],\n",
      "[  0, -1.0,   0,     0],\n",
      "[1.0,    0,   0, 1.946],\n",
      "[  0,    0,   0,   1.0]]))\n",
      "\n",
      "\n",
      "\n"
     ]
    }
   ],
   "source": [
    "sub_dict_center = {q1:0, q2:-0, q3:0, q4:0, q5:0, q6:0}\n",
    "#sub_dict_center = {q1:0, q2: 0, q3:0, q4:0, q5:0, q6:0}\n",
    "print(\"T0_1 = \", T0_1.evalf(subs=sub_dict_center))\n",
    "print(\"\\n\")\n",
    "print(\"T0_2 = \", T0_2.evalf(subs=sub_dict_center))\n",
    "print(\"\\n\")\n",
    "print(\"T0_3 = \", T0_3.evalf(subs=sub_dict_center))\n",
    "print(\"\\n\")\n",
    "print(\"T0_4 = \", T0_4.evalf(subs=sub_dict_center))\n",
    "print(\"\\n\\n\")\n",
    "print(\"T0_5 = \", T0_5.evalf(subs=sub_dict_center))\n",
    "print(\"\\n\\n\")\n",
    "print(\"T0_6 = \", T0_6.evalf(subs=sub_dict_center))\n",
    "print(\"\\n\\n\")\n",
    "print(\"T0_G = \", T0_G.evalf(subs=sub_dict_center))\n",
    "print(\"\\n\\n\")"
   ]
  },
  {
   "cell_type": "code",
   "execution_count": 8,
   "metadata": {
    "collapsed": true
   },
   "outputs": [],
   "source": [
    "T_total = simplify(T0_G * R_corr)"
   ]
  },
  {
   "cell_type": "code",
   "execution_count": 9,
   "metadata": {},
   "outputs": [
    {
     "data": {
      "text/plain": [
       "Matrix([\n",
       "[                  1.0,                     0, 6.12323399573677e-17, 2.153],\n",
       "[-7.49879891330929e-33,                   1.0, 1.22464679914735e-16,     0],\n",
       "[-6.12323399573677e-17, -1.22464679914735e-16,                  1.0, 1.946],\n",
       "[                    0,                     0,                    0,   1.0]])"
      ]
     },
     "execution_count": 9,
     "metadata": {},
     "output_type": "execute_result"
    }
   ],
   "source": [
    "T_total.evalf(subs=sub_dict_center)"
   ]
  },
  {
   "cell_type": "markdown",
   "metadata": {},
   "source": [
    "## FIND WRIST CENTER"
   ]
  },
  {
   "cell_type": "code",
   "execution_count": 10,
   "metadata": {
    "scrolled": true
   },
   "outputs": [
    {
     "data": {
      "text/plain": [
       "Matrix([\n",
       "[ 1.85],\n",
       "[    0],\n",
       "[1.946]])"
      ]
     },
     "execution_count": 10,
     "metadata": {},
     "output_type": "execute_result"
    }
   ],
   "source": [
    "t0g = T0_G.evalf(subs=sub_dict_center)\n",
    "\n",
    "n = t0g[:-1,2:3]\n",
    "p = t0g[:-1,3:4]\n",
    "\n",
    "# multiply for the length \n",
    "n = 0.303 * n\n",
    "wc = p - n\n",
    "wc"
   ]
  },
  {
   "cell_type": "markdown",
   "metadata": {
    "collapsed": true
   },
   "source": [
    "### CALCULATE TRANSFORMATION MATRIX"
   ]
  },
  {
   "cell_type": "code",
   "execution_count": 11,
   "metadata": {
    "collapsed": true
   },
   "outputs": [],
   "source": [
    "#import rospy\n",
    "import tf"
   ]
  },
  {
   "cell_type": "code",
   "execution_count": 12,
   "metadata": {
    "collapsed": true
   },
   "outputs": [],
   "source": [
    "quarternion = [0.306059,0.924682,0.0545878,0.2198]\n",
    "axes = 'rxyz'\n",
    "(roll, pitch, yaw) = tf.transformations.euler_from_quaternion(\n",
    "                quarternion,axes=axes)\n",
    "trans_mat_0_6 = tf.transformations.euler_matrix(roll,pitch,yaw,axes=axes)"
   ]
  },
  {
   "cell_type": "code",
   "execution_count": 13,
   "metadata": {},
   "outputs": [
    {
     "data": {
      "text/plain": [
       "array([[-0.71603192,  0.54201728,  0.43990404,  0.        ],\n",
       "       [ 0.59001083,  0.80669627, -0.0335908 ,  0.        ],\n",
       "       [-0.37307574,  0.23549606, -0.89741634,  0.        ],\n",
       "       [ 0.        ,  0.        ,  0.        ,  1.        ]])"
      ]
     },
     "execution_count": 13,
     "metadata": {},
     "output_type": "execute_result"
    }
   ],
   "source": [
    "trans_mat_0_6"
   ]
  },
  {
   "cell_type": "code",
   "execution_count": 14,
   "metadata": {},
   "outputs": [
    {
     "data": {
      "text/plain": [
       "Matrix([\n",
       "[   0.43990403880921, -0.542017276544014, -0.716031918679017,   0],\n",
       "[-0.0335907980227173, -0.806696272096555,  0.590010832844379,   0],\n",
       "[ -0.897416344250283, -0.235496064751262, -0.373075741048821,   0],\n",
       "[                  0,                  0,                  0, 1.0]])"
      ]
     },
     "execution_count": 14,
     "metadata": {},
     "output_type": "execute_result"
    }
   ],
   "source": [
    "trans_mat_0_6 = Matrix(trans_mat_0_6) * R_corr\n",
    "trans_mat_0_6"
   ]
  },
  {
   "cell_type": "code",
   "execution_count": 15,
   "metadata": {},
   "outputs": [
    {
     "name": "stdout",
     "output_type": "stream",
     "text": [
      "Matrix([[-0.403601328640258], [3.00762671764815], [0.554649949537793]])\n"
     ]
    }
   ],
   "source": [
    "t0g = Matrix(trans_mat_0_6)\n",
    "t0g[0,3] =-0.620559\n",
    "t0g[1,3] = 3.1864\n",
    "t0g[2,3] = 0.441608\n",
    "t0g\n",
    "n = t0g[:-1,2:3]\n",
    "p = t0g[:-1,3:4]\n",
    "\n",
    "R0_6 = t0g[:3,:3]\n",
    "\n",
    "# # multiply for the length \n",
    "n = 0.303 * n\n",
    "wc = p - n\n",
    "wc\n",
    "print wc"
   ]
  },
  {
   "cell_type": "markdown",
   "metadata": {},
   "source": [
    "## Calculate q1, q2, q3"
   ]
  },
  {
   "cell_type": "code",
   "execution_count": 16,
   "metadata": {
    "collapsed": true
   },
   "outputs": [],
   "source": [
    "import math \n"
   ]
  },
  {
   "cell_type": "code",
   "execution_count": 17,
   "metadata": {},
   "outputs": [
    {
     "name": "stdout",
     "output_type": "stream",
     "text": [
      "a3\n",
      "a1\n",
      "d4\n",
      "d1\n",
      "-0.403601328640258\n",
      "xc -a1 + 3.03458605170313\n",
      "yc -d1 + 0.554649949537793\n",
      "l35 sqrt(a3**2 + d4**2)\n",
      "l25 sqrt((-a1 + 3.03458605170313)**2 + (-d1 + 0.554649949537793)**2)\n"
     ]
    }
   ],
   "source": [
    "# wc = [\n",
    "#   1.84986,\n",
    "#     0,\n",
    "#     1.94645\n",
    "# ]\n",
    "print a3\n",
    "print a1\n",
    "print d4\n",
    "print d1\n",
    "# a3 = s[a3]\n",
    "# a1 = s[a1]\n",
    "# d4 = s[d4]\n",
    "# d1 = s[d1]\n",
    "#wc = np.matrix(wc)\n",
    "#wc = np.squeeze(wc,axis=0)\n",
    "#print np.shape(wc)\n",
    "print wc[0]\n",
    "xc = sqrt(wc[0]*wc[0] + wc[1]*wc[1]) - a1\n",
    "yc = wc[2] - d1\n",
    "\n",
    "l35 = sqrt(a3*a3 + d4*d4)\n",
    "l25 = sqrt(xc*xc + yc*yc)\n",
    "\n",
    "print \"xc \"+str(xc)\n",
    "print \"yc \"+str(yc)\n",
    "print \"l35 \"+str(l35)\n",
    "print \"l25 \"+str(l25)"
   ]
  },
  {
   "cell_type": "markdown",
   "metadata": {},
   "source": [
    "## CALCULATE Q1"
   ]
  },
  {
   "cell_type": "code",
   "execution_count": 18,
   "metadata": {},
   "outputs": [
    {
     "name": "stdout",
     "output_type": "stream",
     "text": [
      "theta1: 1.7041920475\n"
     ]
    }
   ],
   "source": [
    "theta1 = math.atan2(wc[1],wc[0])\n",
    "print \"theta1: \"+str(theta1)\n"
   ]
  },
  {
   "cell_type": "markdown",
   "metadata": {},
   "source": [
    "## CALCULATE Q2"
   ]
  },
  {
   "cell_type": "code",
   "execution_count": 19,
   "metadata": {},
   "outputs": [
    {
     "ename": "TypeError",
     "evalue": "can't convert expression to float",
     "output_type": "error",
     "traceback": [
      "\u001b[0;31m---------------------------------------------------------------------------\u001b[0m",
      "\u001b[0;31mTypeError\u001b[0m                                 Traceback (most recent call last)",
      "\u001b[0;32m<ipython-input-19-a455c3f5717b>\u001b[0m in \u001b[0;36m<module>\u001b[0;34m()\u001b[0m\n\u001b[0;32m----> 1\u001b[0;31m \u001b[0mtheta21\u001b[0m \u001b[0;34m=\u001b[0m \u001b[0mmath\u001b[0m\u001b[0;34m.\u001b[0m\u001b[0matan2\u001b[0m\u001b[0;34m(\u001b[0m\u001b[0myc\u001b[0m\u001b[0;34m,\u001b[0m\u001b[0mxc\u001b[0m\u001b[0;34m)\u001b[0m\u001b[0;34m\u001b[0m\u001b[0m\n\u001b[0m\u001b[1;32m      2\u001b[0m \u001b[0mcos_theta22\u001b[0m \u001b[0;34m=\u001b[0m \u001b[0;34m(\u001b[0m\u001b[0;34m(\u001b[0m\u001b[0ml25\u001b[0m \u001b[0;34m*\u001b[0m \u001b[0ml25\u001b[0m\u001b[0;34m)\u001b[0m \u001b[0;34m+\u001b[0m \u001b[0;34m(\u001b[0m\u001b[0ma2\u001b[0m \u001b[0;34m*\u001b[0m \u001b[0ma2\u001b[0m\u001b[0;34m)\u001b[0m \u001b[0;34m-\u001b[0m \u001b[0;34m(\u001b[0m\u001b[0ml35\u001b[0m \u001b[0;34m*\u001b[0m \u001b[0ml35\u001b[0m\u001b[0;34m)\u001b[0m\u001b[0;34m)\u001b[0m \u001b[0;34m/\u001b[0m \u001b[0;34m(\u001b[0m\u001b[0;36m2\u001b[0m \u001b[0;34m*\u001b[0m \u001b[0ma2\u001b[0m \u001b[0;34m*\u001b[0m \u001b[0ml25\u001b[0m\u001b[0;34m)\u001b[0m\u001b[0;34m\u001b[0m\u001b[0m\n\u001b[1;32m      3\u001b[0m \u001b[0mtheta22\u001b[0m \u001b[0;34m=\u001b[0m \u001b[0mmath\u001b[0m\u001b[0;34m.\u001b[0m\u001b[0matan2\u001b[0m\u001b[0;34m(\u001b[0m\u001b[0msqrt\u001b[0m\u001b[0;34m(\u001b[0m\u001b[0;36m1\u001b[0m \u001b[0;34m-\u001b[0m \u001b[0mcos_theta22\u001b[0m\u001b[0;34m*\u001b[0m\u001b[0mcos_theta22\u001b[0m\u001b[0;34m)\u001b[0m\u001b[0;34m,\u001b[0m \u001b[0mcos_theta22\u001b[0m\u001b[0;34m)\u001b[0m\u001b[0;34m\u001b[0m\u001b[0m\n\u001b[1;32m      4\u001b[0m \u001b[0mtheta2\u001b[0m \u001b[0;34m=\u001b[0m \u001b[0;34m(\u001b[0m\u001b[0mtheta22\u001b[0m \u001b[0;34m+\u001b[0m \u001b[0mtheta21\u001b[0m\u001b[0;34m)\u001b[0m \u001b[0;34m-\u001b[0m \u001b[0mnp\u001b[0m\u001b[0;34m.\u001b[0m\u001b[0mpi\u001b[0m\u001b[0;34m/\u001b[0m\u001b[0;36m2\u001b[0m\u001b[0;34m\u001b[0m\u001b[0m\n\u001b[1;32m      5\u001b[0m \u001b[0;32mprint\u001b[0m \u001b[0;34m\"theta_21 \"\u001b[0m\u001b[0;34m+\u001b[0m\u001b[0mstr\u001b[0m\u001b[0;34m(\u001b[0m\u001b[0mtheta21\u001b[0m\u001b[0;34m)\u001b[0m\u001b[0;34m\u001b[0m\u001b[0m\n",
      "\u001b[0;32m/home/robond/.local/lib/python2.7/site-packages/sympy/core/expr.pyc\u001b[0m in \u001b[0;36m__float__\u001b[0;34m(self)\u001b[0m\n\u001b[1;32m    219\u001b[0m         \u001b[0;31m# to fail, and if it is we still need to check that it evalf'ed to\u001b[0m\u001b[0;34m\u001b[0m\u001b[0;34m\u001b[0m\u001b[0m\n\u001b[1;32m    220\u001b[0m         \u001b[0;31m# a number.\u001b[0m\u001b[0;34m\u001b[0m\u001b[0;34m\u001b[0m\u001b[0m\n\u001b[0;32m--> 221\u001b[0;31m         \u001b[0mresult\u001b[0m \u001b[0;34m=\u001b[0m \u001b[0mself\u001b[0m\u001b[0;34m.\u001b[0m\u001b[0mevalf\u001b[0m\u001b[0;34m(\u001b[0m\u001b[0;34m)\u001b[0m\u001b[0;34m\u001b[0m\u001b[0m\n\u001b[0m\u001b[1;32m    222\u001b[0m         \u001b[0;32mif\u001b[0m \u001b[0mresult\u001b[0m\u001b[0;34m.\u001b[0m\u001b[0mis_Number\u001b[0m\u001b[0;34m:\u001b[0m\u001b[0;34m\u001b[0m\u001b[0m\n\u001b[1;32m    223\u001b[0m             \u001b[0;32mreturn\u001b[0m \u001b[0mfloat\u001b[0m\u001b[0;34m(\u001b[0m\u001b[0mresult\u001b[0m\u001b[0;34m)\u001b[0m\u001b[0;34m\u001b[0m\u001b[0m\n",
      "\u001b[0;32m/home/robond/.local/lib/python2.7/site-packages/sympy/core/evalf.pyc\u001b[0m in \u001b[0;36mevalf\u001b[0;34m(self, n, subs, maxn, chop, strict, quad, verbose)\u001b[0m\n\u001b[1;32m   1359\u001b[0m \u001b[0;34m\u001b[0m\u001b[0m\n\u001b[1;32m   1360\u001b[0m         \"\"\"\n\u001b[0;32m-> 1361\u001b[0;31m         \u001b[0;32mfrom\u001b[0m \u001b[0msympy\u001b[0m \u001b[0;32mimport\u001b[0m \u001b[0mFloat\u001b[0m\u001b[0;34m,\u001b[0m \u001b[0mNumber\u001b[0m\u001b[0;34m\u001b[0m\u001b[0m\n\u001b[0m\u001b[1;32m   1362\u001b[0m         \u001b[0mn\u001b[0m \u001b[0;34m=\u001b[0m \u001b[0mn\u001b[0m \u001b[0;32mif\u001b[0m \u001b[0mn\u001b[0m \u001b[0;32mis\u001b[0m \u001b[0;32mnot\u001b[0m \u001b[0mNone\u001b[0m \u001b[0;32melse\u001b[0m \u001b[0;36m15\u001b[0m\u001b[0;34m\u001b[0m\u001b[0m\n\u001b[1;32m   1363\u001b[0m \u001b[0;34m\u001b[0m\u001b[0m\n",
      "\u001b[0;32m/home/robond/.local/lib/python2.7/site-packages/sympy/core/expr.pyc\u001b[0m in \u001b[0;36m__float__\u001b[0;34m(self)\u001b[0m\n\u001b[1;32m    224\u001b[0m         \u001b[0;32mif\u001b[0m \u001b[0mresult\u001b[0m\u001b[0;34m.\u001b[0m\u001b[0mis_number\u001b[0m \u001b[0;32mand\u001b[0m \u001b[0mresult\u001b[0m\u001b[0;34m.\u001b[0m\u001b[0mas_real_imag\u001b[0m\u001b[0;34m(\u001b[0m\u001b[0;34m)\u001b[0m\u001b[0;34m[\u001b[0m\u001b[0;36m1\u001b[0m\u001b[0;34m]\u001b[0m\u001b[0;34m:\u001b[0m\u001b[0;34m\u001b[0m\u001b[0m\n\u001b[1;32m    225\u001b[0m             \u001b[0;32mraise\u001b[0m \u001b[0mTypeError\u001b[0m\u001b[0;34m(\u001b[0m\u001b[0;34m\"can't convert complex to float\"\u001b[0m\u001b[0;34m)\u001b[0m\u001b[0;34m\u001b[0m\u001b[0m\n\u001b[0;32m--> 226\u001b[0;31m         \u001b[0;32mraise\u001b[0m \u001b[0mTypeError\u001b[0m\u001b[0;34m(\u001b[0m\u001b[0;34m\"can't convert expression to float\"\u001b[0m\u001b[0;34m)\u001b[0m\u001b[0;34m\u001b[0m\u001b[0m\n\u001b[0m\u001b[1;32m    227\u001b[0m \u001b[0;34m\u001b[0m\u001b[0m\n\u001b[1;32m    228\u001b[0m     \u001b[0;32mdef\u001b[0m \u001b[0m__complex__\u001b[0m\u001b[0;34m(\u001b[0m\u001b[0mself\u001b[0m\u001b[0;34m)\u001b[0m\u001b[0;34m:\u001b[0m\u001b[0;34m\u001b[0m\u001b[0m\n",
      "\u001b[0;31mTypeError\u001b[0m: can't convert expression to float"
     ]
    }
   ],
   "source": [
    "theta21 = math.atan2(yc,xc)\n",
    "cos_theta22 = ((l25 * l25) + (a2 * a2) - (l35 * l35)) / (2 * a2 * l25)\n",
    "theta22 = math.atan2(sqrt(1 - cos_theta22*cos_theta22), cos_theta22)\n",
    "theta2 = (theta22 + theta21) - np.pi/2\n",
    "print \"theta_21 \"+str(theta21)\n",
    "print \"theta_22 \"+str(theta22)\n",
    "print \"Q2 \"+str(theta2)"
   ]
  },
  {
   "cell_type": "markdown",
   "metadata": {},
   "source": [
    "\n",
    "## CALCULATE Q3"
   ]
  },
  {
   "cell_type": "code",
   "execution_count": null,
   "metadata": {},
   "outputs": [],
   "source": [
    "cosine_theta31 = -1 * (a3 / l35)\n",
    "cosine_theta32 = (a2 * a2 + l35 * l35 - l25 * l25) / (2 * a2 * l35)\n",
    "theta31 = math.acos(cosine_theta31)\n",
    "theta32 = math.acos(cosine_theta32)\n",
    "theta3 = np.pi - theta31 - theta32\n",
    "print \"theta31 :\"+str(theta31)\n",
    "print \"theta32 :\"+str(theta32)"
   ]
  },
  {
   "cell_type": "code",
   "execution_count": null,
   "metadata": {
    "scrolled": true
   },
   "outputs": [],
   "source": [
    "print \"Q1 \"+str(theta1)\n",
    "print \"Q2 \"+str(theta2)\n",
    "print \"Q3 \"+str(theta3)"
   ]
  },
  {
   "cell_type": "code",
   "execution_count": null,
   "metadata": {},
   "outputs": [],
   "source": [
    "np.pi /2 "
   ]
  },
  {
   "cell_type": "markdown",
   "metadata": {},
   "source": [
    "## Calculate Q4, Q5, Q6"
   ]
  },
  {
   "cell_type": "code",
   "execution_count": null,
   "metadata": {
    "collapsed": true
   },
   "outputs": [],
   "source": [
    "## Conversion \n",
    "\n",
    "rx,ry,rz = symbols('rx,ry,rz')\n",
    "\n",
    "Rot_x = Matrix([[ 1,              0,        0],\n",
    "              [ 0,        cos(rx), -sin(rx)],\n",
    "              [ 0,        sin(rx),  cos(rx)]])\n",
    "\n",
    "Rot_y = Matrix([[ cos(ry),        0,  sin(ry)],\n",
    "              [       0,        1,        0],\n",
    "              [-sin(ry),        0,  cos(ry)]])\n",
    "\n",
    "Rot_z = Matrix([[ cos(rz), -sin(rz),        0],\n",
    "              [ sin(rz),  cos(rz),        0],\n",
    "              [ 0,              0,        1]])\n",
    "Rrpy = simplify(Rot_z * Rot_y * Rot_x)\n",
    "\n",
    "rdict = {rx:yaw, ry:pitch, rz: roll}\n",
    "Rrpy_eval = Rrpy.evalf(subs=rdict)"
   ]
  },
  {
   "cell_type": "code",
   "execution_count": null,
   "metadata": {},
   "outputs": [],
   "source": [
    "Rrpy_eval"
   ]
  },
  {
   "cell_type": "code",
   "execution_count": null,
   "metadata": {},
   "outputs": [],
   "source": [
    "t03_eval = T0_3.evalf(subs={q1: theta1, q2: theta2, q3:theta3})\n",
    "t03_eval = t03_eval\n",
    "r03 = t03_eval[:3,:3]\n",
    "t03_eval"
   ]
  },
  {
   "cell_type": "code",
   "execution_count": null,
   "metadata": {},
   "outputs": [],
   "source": [
    "r03"
   ]
  },
  {
   "cell_type": "code",
   "execution_count": null,
   "metadata": {
    "collapsed": true
   },
   "outputs": [],
   "source": [
    "r30 = r03.inv('LU') * Rrpy_eval"
   ]
  },
  {
   "cell_type": "code",
   "execution_count": null,
   "metadata": {
    "scrolled": true
   },
   "outputs": [],
   "source": [
    "r03 * r30"
   ]
  },
  {
   "cell_type": "code",
   "execution_count": null,
   "metadata": {
    "collapsed": true
   },
   "outputs": [],
   "source": [
    "r36 = r30 "
   ]
  },
  {
   "cell_type": "code",
   "execution_count": null,
   "metadata": {
    "scrolled": true
   },
   "outputs": [],
   "source": [
    "R0_6"
   ]
  },
  {
   "cell_type": "code",
   "execution_count": null,
   "metadata": {},
   "outputs": [],
   "source": [
    "Rrpy_eval"
   ]
  },
  {
   "cell_type": "code",
   "execution_count": null,
   "metadata": {
    "collapsed": true
   },
   "outputs": [],
   "source": [
    "theta4, theta5, theta6 = tf.transformations.euler_from_matrix(np.matrix(r36),axes='ryzx')"
   ]
  },
  {
   "cell_type": "code",
   "execution_count": null,
   "metadata": {},
   "outputs": [],
   "source": [
    "print(\"theta 4\", theta4)\n",
    "print(\"theta 5\", theta5 - np.pi/2 )\n",
    "print(\"theta 6\", theta6 - np.pi/2)\n"
   ]
  },
  {
   "cell_type": "code",
   "execution_count": null,
   "metadata": {
    "collapsed": true
   },
   "outputs": [],
   "source": []
  },
  {
   "cell_type": "code",
   "execution_count": 20,
   "metadata": {
    "collapsed": true
   },
   "outputs": [],
   "source": [
    "R30 = T0_3.inverse()"
   ]
  },
  {
   "cell_type": "code",
   "execution_count": 21,
   "metadata": {},
   "outputs": [
    {
     "data": {
      "text/plain": [
       "Matrix([\n",
       "[(sin(q1)*cos(q2 + q3)**2/(sin(q2 + q3)*cos(q1)) - sin(q1)/(sin(q2 + q3)*cos(q1)))*sin(q1) - cos(q2 + q3)**2/(sin(q2 + q3)*cos(q1)) + 1/(sin(q2 + q3)*cos(q1)), -(sin(q1)*cos(q2 + q3)**2/(sin(q2 + q3)*cos(q1)) - sin(q1)/(sin(q2 + q3)*cos(q1)))*cos(q1),  cos(q2 + q3), -(1.25*sin(q2) + 0.35)/sin(q2 + q3) - (-(1.25*sin(q2) + 0.35)*cos(q2 + q3)/sin(q2 + q3) + 1.25*cos(q2) + 0.75)*cos(q2 + q3)],\n",
       "[                                                                                                      -sin(q1)**2*cos(q2 + q3)/cos(q1) + cos(q2 + q3)/cos(q1),                                                                       sin(q1)*cos(q2 + q3), -sin(q2 + q3),                                       (-(1.25*sin(q2) + 0.35)*cos(q2 + q3)/sin(q2 + q3) + 1.25*cos(q2) + 0.75)*sin(q2 + q3)],\n",
       "[                                                                                                                                                     -sin(q1),                                                                                    cos(q1),             0,                                                                                                                           0],\n",
       "[                                                                                                                                                            0,                                                                                          0,             0,                                                                                                                           1]])"
      ]
     },
     "execution_count": 21,
     "metadata": {},
     "output_type": "execute_result"
    }
   ],
   "source": [
    "R30"
   ]
  },
  {
   "cell_type": "code",
   "execution_count": 22,
   "metadata": {
    "collapsed": true
   },
   "outputs": [],
   "source": [
    "R30_inv = T0_3.inv()"
   ]
  },
  {
   "cell_type": "code",
   "execution_count": 26,
   "metadata": {},
   "outputs": [],
   "source": [
    "R36 = simplify(R30 * T0_6)"
   ]
  },
  {
   "cell_type": "code",
   "execution_count": 27,
   "metadata": {},
   "outputs": [
    {
     "data": {
      "text/plain": [
       "Matrix([\n",
       "[-sin(q4)*sin(q6) + cos(q4)*cos(q5)*cos(q6), -sin(q4)*cos(q6) - sin(q6)*cos(q4)*cos(q5), -sin(q5)*cos(q4), -0.054],\n",
       "[                           sin(q5)*cos(q6),                           -sin(q5)*sin(q6),          cos(q5),    1.5],\n",
       "[-sin(q4)*cos(q5)*cos(q6) - sin(q6)*cos(q4),  sin(q4)*sin(q6)*cos(q5) - cos(q4)*cos(q6),  sin(q4)*sin(q5),      0],\n",
       "[                                         0,                                          0,                0,      1]])"
      ]
     },
     "execution_count": 27,
     "metadata": {},
     "output_type": "execute_result"
    }
   ],
   "source": [
    "R36"
   ]
  },
  {
   "cell_type": "code",
   "execution_count": 28,
   "metadata": {
    "collapsed": true
   },
   "outputs": [],
   "source": [
    "R36_rotation = R36[:3,:3]"
   ]
  },
  {
   "cell_type": "code",
   "execution_count": 29,
   "metadata": {},
   "outputs": [
    {
     "data": {
      "text/plain": [
       "Matrix([\n",
       "[-sin(q4)*sin(q6) + cos(q4)*cos(q5)*cos(q6), -sin(q4)*cos(q6) - sin(q6)*cos(q4)*cos(q5), -sin(q5)*cos(q4)],\n",
       "[                           sin(q5)*cos(q6),                           -sin(q5)*sin(q6),          cos(q5)],\n",
       "[-sin(q4)*cos(q5)*cos(q6) - sin(q6)*cos(q4),  sin(q4)*sin(q6)*cos(q5) - cos(q4)*cos(q6),  sin(q4)*sin(q5)]])"
      ]
     },
     "execution_count": 29,
     "metadata": {},
     "output_type": "execute_result"
    }
   ],
   "source": [
    "R36_rotation\n"
   ]
  },
  {
   "cell_type": "code",
   "execution_count": null,
   "metadata": {
    "collapsed": true
   },
   "outputs": [],
   "source": []
  }
 ],
 "metadata": {
  "kernelspec": {
   "display_name": "Python 2",
   "language": "python",
   "name": "python2"
  },
  "language_info": {
   "codemirror_mode": {
    "name": "ipython",
    "version": 2
   },
   "file_extension": ".py",
   "mimetype": "text/x-python",
   "name": "python",
   "nbconvert_exporter": "python",
   "pygments_lexer": "ipython2",
   "version": "2.7.12"
  }
 },
 "nbformat": 4,
 "nbformat_minor": 2
}
