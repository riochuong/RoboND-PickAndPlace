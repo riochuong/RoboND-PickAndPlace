{
 "cells": [
  {
   "cell_type": "markdown",
   "metadata": {},
   "source": [
    "# Project 2 - WRITEUP"
   ]
  },
  {
   "cell_type": "markdown",
   "metadata": {},
   "source": [
    "## 1. DH PARAMETERS TABLE"
   ]
  },
  {
   "cell_type": "code",
   "execution_count": 1,
   "metadata": {
    "collapsed": true
   },
   "outputs": [],
   "source": [
    "from sympy import symbols, cos, sin, pi, simplify, sqrt, atan2\n",
    "from sympy.matrices import Matrix\n",
    "import numpy as np\n",
    "from numpy import array\n",
    "\n",
    "## Create symbols for joint variables\n",
    "q1, q2, q3, q4, q5, q6, q7 = symbols('q1:8') # theta_i\n",
    "d1, d2, d3, d4, d5, d6, d7 = symbols('d1:8')\n",
    "a0, a1, a2, a3, a4, a5, a6 = symbols('a0:7')\n",
    "alpha0, alpha1, alpha2, alpha3, alpha4, alpha5, alpha6 = symbols('alpha0:7')\n",
    "\n",
    "\n",
    "### KUKA KR210 ###\n",
    "s = {\n",
    "    alpha0: 0,     a0:    0,          d1: 0.75,\n",
    "    \n",
    "    alpha1: -pi/2, a1:    0.35,       d2: 0,       q2: (q2 - pi/2),\n",
    "    \n",
    "    alpha2: 0,     a2:    1.25,       d3: 0,\n",
    "    \n",
    "    alpha3: -pi/2, a3:  -0.054,       d4: 1.50,\n",
    "    \n",
    "    alpha4: pi/2,  a4:       0,       d5: 0,\n",
    "    \n",
    "    alpha5: -pi/2, a5:       0,       d6: 0,\n",
    "    \n",
    "    alpha6: 0,     a6:       0,       d7: 0.303,    q7:0\n",
    "    \n",
    "}\n"
   ]
  },
  {
   "cell_type": "markdown",
   "metadata": {},
   "source": [
    "Based on URDF file and Project 2 video lectures, we can come up with the above DH table. Also, we apply the right-hand rule to determine direction of all the coordinates. \n"
   ]
  },
  {
   "cell_type": "markdown",
   "metadata": {},
   "source": [
    "Because the joint locations are not exactly the same as the chosen origin of the frame coordinate, the diagram below is based purely on the DH table above information and assume that the joint and origin of the frame will be the same."
   ]
  },
  {
   "cell_type": "markdown",
   "metadata": {},
   "source": [
    "[INSERT DRAWING DIAGRAM HERE]"
   ]
  },
  {
   "cell_type": "markdown",
   "metadata": {},
   "source": [
    "## 2 . TRANSFORMATION MATRICES"
   ]
  },
  {
   "cell_type": "code",
   "execution_count": null,
   "metadata": {
    "collapsed": true
   },
   "outputs": [],
   "source": []
  }
 ],
 "metadata": {
  "kernelspec": {
   "display_name": "Python 2",
   "language": "python",
   "name": "python2"
  },
  "language_info": {
   "codemirror_mode": {
    "name": "ipython",
    "version": 2
   },
   "file_extension": ".py",
   "mimetype": "text/x-python",
   "name": "python",
   "nbconvert_exporter": "python",
   "pygments_lexer": "ipython2",
   "version": "2.7.12"
  }
 },
 "nbformat": 4,
 "nbformat_minor": 2
}
