{
 "cells": [
  {
   "cell_type": "markdown",
   "metadata": {},
   "source": [
    "# Project 2 - WRITEUP"
   ]
  },
  {
   "cell_type": "markdown",
   "metadata": {},
   "source": [
    "## 1. DH PARAMETERS TABLE"
   ]
  },
  {
   "cell_type": "code",
   "execution_count": 20,
   "metadata": {
    "collapsed": true
   },
   "outputs": [],
   "source": [
    "from sympy import symbols, cos, sin, pi, simplify, sqrt, atan2\n",
    "from sympy.matrices import Matrix\n",
    "import numpy as np\n",
    "from numpy import array\n",
    "import tf\n",
    "\n",
    "## Create symbols for joint variables\n",
    "q1, q2, q3, q4, q5, q6, q7 = symbols('q1:8') # theta_i\n",
    "d1, d2, d3, d4, d5, d6, d7 = symbols('d1:8')\n",
    "a0, a1, a2, a3, a4, a5, a6 = symbols('a0:7')\n",
    "alpha0, alpha1, alpha2, alpha3, alpha4, alpha5, alpha6 = symbols('alpha0:7')\n",
    "\n",
    "\n",
    "### KUKA KR210 ###\n",
    "s = {\n",
    "    alpha0: 0,     a0:    0,          d1: 0.75,\n",
    "    \n",
    "    alpha1: -pi/2, a1:    0.35,       d2: 0,       q2: (q2 - pi/2),\n",
    "    \n",
    "    alpha2: 0,     a2:    1.25,       d3: 0,\n",
    "    \n",
    "    alpha3: -pi/2, a3:  -0.054,       d4: 1.50,\n",
    "    \n",
    "    alpha4: pi/2,  a4:       0,       d5: 0,\n",
    "    \n",
    "    alpha5: -pi/2, a5:       0,       d6: 0,\n",
    "    \n",
    "    alpha6: 0,     a6:       0,       d7: 0.303,    q7:0\n",
    "    \n",
    "}\n"
   ]
  },
  {
   "cell_type": "markdown",
   "metadata": {},
   "source": [
    "Based on URDF file and Project 2 video lectures, we can come up with the above DH table. Also, we apply the right-hand rule to determine direction of all the coordinates. \n"
   ]
  },
  {
   "cell_type": "markdown",
   "metadata": {},
   "source": [
    "Because the joint locations are not exactly the same as the chosen origin of the frame coordinate, the diagram below is based purely on the DH table above information and assume that the joint and origin of the frame will be the same."
   ]
  },
  {
   "cell_type": "markdown",
   "metadata": {},
   "source": [
    "[INSERT DRAWING DIAGRAM HERE]"
   ]
  },
  {
   "cell_type": "markdown",
   "metadata": {},
   "source": [
    "## 2 . TRANSFORMATION MATRICES"
   ]
  },
  {
   "cell_type": "markdown",
   "metadata": {},
   "source": [
    "### Homogeneous Tranformation Matrices Between Joints"
   ]
  },
  {
   "cell_type": "markdown",
   "metadata": {},
   "source": [
    "In order to understand the Forward Kinematic of the project, we construct all the homogeneous transformation matrices between parent and child joints as well as from base to any specific joint as below:"
   ]
  },
  {
   "cell_type": "markdown",
   "metadata": {},
   "source": [
    "Also, the generic form of the homogeneous transform from one frame to another is given in lesson 2 section 12. We just have to plugin different angle values q1..q7 to arrive at the result."
   ]
  },
  {
   "cell_type": "code",
   "execution_count": 4,
   "metadata": {
    "collapsed": true
   },
   "outputs": [],
   "source": [
    "### HOMOGENEOUS TRANSFORMATION BETWEEN NEIGHBOR FRAME\n",
    "T0_1 = Matrix([[cos(q1),                        -sin(q1),             0,                  a0],\n",
    "               [sin(q1)*cos(alpha0), cos(q1)*cos(alpha0),  -sin(alpha0),     -sin(alpha0)*d1],\n",
    "               [sin(q1)*sin(alpha0), cos(q1)*sin(alpha0),   cos(alpha0),      cos(alpha0)*d1],\n",
    "               [                  0,                    0,            0,     1]])\n",
    "T0_1 = T0_1.subs(s)\n",
    "\n",
    "## T1_2\n",
    "T1_2 = Matrix([[cos(q2),                        -sin(q2),             0,                  a1],\n",
    "               [sin(q2)*cos(alpha1), cos(q2)*cos(alpha1),  -sin(alpha1),     -sin(alpha1)*d2],\n",
    "               [sin(q2)*sin(alpha1), cos(q2)*sin(alpha1),   cos(alpha1),      cos(alpha1)*d2],\n",
    "               [                  0,                    0,            0,     1]])\n",
    "T1_2 = T1_2.subs(s)\n",
    "\n",
    "## T2_3\n",
    "T2_3 = Matrix([[cos(q3),                        -sin(q3),             0,                  a2],\n",
    "               [sin(q3)*cos(alpha2), cos(q3)*cos(alpha2),  -sin(alpha2),     -sin(alpha2)*d3],\n",
    "               [sin(q3)*sin(alpha2), cos(q3)*sin(alpha2),   cos(alpha2),      cos(alpha2)*d3],\n",
    "               [                  0,                    0,            0,     1]])\n",
    "T2_3 = T2_3.subs(s)\n",
    "\n",
    "\n",
    "## T3_4\n",
    "T3_4 = Matrix([[cos(q4),                        -sin(q4),             0,                  a3],\n",
    "               [sin(q4)*cos(alpha3), cos(q4)*cos(alpha3),  -sin(alpha3),     -sin(alpha3)*d4],\n",
    "               [sin(q4)*sin(alpha3), cos(q4)*sin(alpha3),   cos(alpha3),      cos(alpha3)*d4],\n",
    "               [                  0,                    0,            0,     1]])\n",
    "T3_4 = T3_4.subs(s)\n",
    "\n",
    "\n",
    "## T4_5\n",
    "T4_5 = Matrix([[cos(q5),                        -sin(q5),             0,                  a4],\n",
    "               [sin(q5)*cos(alpha4), cos(q5)*cos(alpha4),  -sin(alpha4),     -sin(alpha4)*d5],\n",
    "               [sin(q5)*sin(alpha4), cos(q5)*sin(alpha4),   cos(alpha4),      cos(alpha4)*d5],\n",
    "               [                  0,                    0,            0,     1]])\n",
    "T4_5 = T4_5.subs(s)\n",
    "\n",
    "\n",
    "\n",
    "## T5_6\n",
    "T5_6 = Matrix([[cos(q6),                        -sin(q6),             0,                  a5],\n",
    "               [sin(q6)*cos(alpha5), cos(q6)*cos(alpha5),  -sin(alpha5),     -sin(alpha5)*d6],\n",
    "               [sin(q6)*sin(alpha5), cos(q6)*sin(alpha5),   cos(alpha5),      cos(alpha5)*d6],\n",
    "               [                  0,                    0,            0,     1]])\n",
    "T5_6 = T5_6.subs(s)\n",
    "\n",
    "## T6_G\n",
    "T6_G = Matrix([[            cos(q7),            -sin(q7),             0,                  a6],\n",
    "               [sin(q7)*cos(alpha6), cos(q7)*cos(alpha6),  -sin(alpha6),     -sin(alpha6)*d7],\n",
    "               [sin(q7)*sin(alpha6), cos(q7)*sin(alpha6),   cos(alpha6),      cos(alpha6)*d7],\n",
    "               [                  0,                    0,            0,     1]])\n",
    "T6_G = T6_G.subs(s)"
   ]
  },
  {
   "cell_type": "markdown",
   "metadata": {},
   "source": [
    "### Verify that the matrix is correct using Forward Kinematics"
   ]
  },
  {
   "cell_type": "code",
   "execution_count": 5,
   "metadata": {
    "collapsed": true
   },
   "outputs": [],
   "source": [
    "## COMPOSITION OF HOMOGENEOUS TRANSFORMS\n",
    "\n",
    "T0_2 = simplify(T0_1 * T1_2) # base_link to link_2\n",
    "T0_3 = simplify(T0_2 * T2_3) # base_link to link_3\n",
    "T0_4 = simplify(T0_3 * T3_4) # base_link to link_4\n",
    "T0_5 = simplify(T0_4 * T4_5) # base_link to link_5\n",
    "T0_6 = simplify(T0_5 * T5_6) # base_link to link_6\n",
    "T0_G = simplify(T0_6 * T6_G) # base_link to gripper_link\n"
   ]
  },
  {
   "cell_type": "markdown",
   "metadata": {},
   "source": [
    "### Evaluate Transformation matrices and check with the simulation values to verify that our matrices are correct "
   ]
  },
  {
   "cell_type": "code",
   "execution_count": 7,
   "metadata": {},
   "outputs": [
    {
     "name": "stdout",
     "output_type": "stream",
     "text": [
      "('T0_1 = ', Matrix([\n",
      "[1.0,   0,   0,    0],\n",
      "[  0, 1.0,   0,    0],\n",
      "[  0,   0, 1.0, 0.75],\n",
      "[  0,   0,   0,  1.0]]))\n",
      "\n",
      "\n",
      "('T0_2 = ', Matrix([\n",
      "[  0, 1.0,   0, 0.35],\n",
      "[  0,   0, 1.0,    0],\n",
      "[1.0,   0,   0, 0.75],\n",
      "[  0,   0,   0,  1.0]]))\n",
      "\n",
      "\n",
      "('T0_3 = ', Matrix([\n",
      "[  0, 1.0,   0, 0.35],\n",
      "[  0,   0, 1.0,    0],\n",
      "[1.0,   0,   0,  2.0],\n",
      "[  0,   0,   0,  1.0]]))\n",
      "\n",
      "\n",
      "('T0_4 = ', Matrix([\n",
      "[  0,    0, 1.0,  1.85],\n",
      "[  0, -1.0,   0,     0],\n",
      "[1.0,    0,   0, 1.946],\n",
      "[  0,    0,   0,   1.0]]))\n",
      "\n",
      "\n",
      "\n",
      "('T0_5 = ', Matrix([\n",
      "[  0, 1.0,   0,  1.85],\n",
      "[  0,   0, 1.0,     0],\n",
      "[1.0,   0,   0, 1.946],\n",
      "[  0,   0,   0,   1.0]]))\n",
      "\n",
      "\n",
      "\n",
      "('T0_6 = ', Matrix([\n",
      "[  0,    0, 1.0,  1.85],\n",
      "[  0, -1.0,   0,     0],\n",
      "[1.0,    0,   0, 1.946],\n",
      "[  0,    0,   0,   1.0]]))\n",
      "\n",
      "\n",
      "\n",
      "('T0_G = ', Matrix([\n",
      "[  0,    0, 1.0, 2.153],\n",
      "[  0, -1.0,   0,     0],\n",
      "[1.0,    0,   0, 1.946],\n",
      "[  0,    0,   0,   1.0]]))\n",
      "\n",
      "\n",
      "\n"
     ]
    }
   ],
   "source": [
    "sub_dict_center = {q1:0, q2:-0, q3:0, q4:0, q5:0, q6:0}\n",
    "print(\"T0_1 = \", T0_1.evalf(subs=sub_dict_center))\n",
    "print(\"\\n\")\n",
    "print(\"T0_2 = \", T0_2.evalf(subs=sub_dict_center))\n",
    "print(\"\\n\")\n",
    "print(\"T0_3 = \", T0_3.evalf(subs=sub_dict_center))\n",
    "print(\"\\n\")\n",
    "print(\"T0_4 = \", T0_4.evalf(subs=sub_dict_center))\n",
    "print(\"\\n\\n\")\n",
    "print(\"T0_5 = \", T0_5.evalf(subs=sub_dict_center))\n",
    "print(\"\\n\\n\")\n",
    "print(\"T0_6 = \", T0_6.evalf(subs=sub_dict_center))\n",
    "print(\"\\n\\n\")\n",
    "print(\"T0_G = \", T0_G.evalf(subs=sub_dict_center))\n",
    "print(\"\\n\\n\")"
   ]
  },
  {
   "cell_type": "markdown",
   "metadata": {},
   "source": [
    "[INSERT IMAGE FROM FORWARD KINEMATICS]"
   ]
  },
  {
   "cell_type": "markdown",
   "metadata": {},
   "source": [
    "#### Note: the orientation of the end-effector from the URDF file is not the same as what we defined in the DH parameters which requires correction of two intrinsic rotations: 180 degrees along z axis and negative 90 degress along y axis"
   ]
  },
  {
   "cell_type": "code",
   "execution_count": 8,
   "metadata": {
    "collapsed": true
   },
   "outputs": [],
   "source": [
    "## Correction needed to account of orientation difference between deifintion of gripper link in URDF\n",
    "## versus DH convention\n",
    "\n",
    "R_z = Matrix([[    cos(np.pi),     -sin(np.pi),         0,            0],\n",
    "              [    sin(np.pi),      cos(np.pi),         0,            0],\n",
    "              [             0,               0,         1,            0],\n",
    "              [             0,               0,         0,            1]\n",
    "             ])\n",
    "\n",
    "R_y = Matrix([[    cos(-np.pi/2),               0,         sin(-np.pi/2),            0],\n",
    "              [                0,               1,                     0,            0],\n",
    "              [   -sin(-np.pi/2),               0,         cos(-np.pi/2),            0],\n",
    "              [             0,                  0,                     0,            1]\n",
    "             ])\n",
    "\n",
    "# intrinsic rotation post multiplication\n",
    "R_corr = simplify(R_z * R_y)"
   ]
  },
  {
   "cell_type": "code",
   "execution_count": 9,
   "metadata": {
    "collapsed": true
   },
   "outputs": [],
   "source": [
    "# final orientation of the gripper wrt to frame \n",
    "T_total = simplify(T0_G * R_corr)"
   ]
  },
  {
   "cell_type": "markdown",
   "metadata": {},
   "source": [
    "Plug-in a random position for the gripper transformation matrices to compare with the inverse method later on "
   ]
  },
  {
   "cell_type": "code",
   "execution_count": 41,
   "metadata": {},
   "outputs": [
    {
     "data": {
      "text/plain": [
       "Matrix([\n",
       "[-0.391706823650805,  0.914054389751172, 0.105215668424479,   2.39621265081565],\n",
       "[-0.672244307120706, -0.362392700664483, 0.645568836026728, 0.0535769417015897],\n",
       "[ 0.628214418689351,  0.182143084089721, 0.756419553600438,  0.743432790332382],\n",
       "[                 0,                  0,                 0,                1.0]])"
      ]
     },
     "execution_count": 41,
     "metadata": {},
     "output_type": "execute_result"
    }
   ],
   "source": [
    "new_pose = {\n",
    "    q1:-0.06,\n",
    "    q2:0.86,\n",
    "    q3:-0.12,\n",
    "    q4:5.46,\n",
    "    q5:-2.05,\n",
    "    q6:-5.59    \n",
    "}\n",
    "\n",
    "T0_G_eval = T0_G.evalf(subs=new_pose)\n",
    "T0_G_eval"
   ]
  },
  {
   "cell_type": "markdown",
   "metadata": {},
   "source": [
    "### FIND WRIST CENTER (JOINT 5) POSITION GIVEN END-EFFECTOR POSITION AND ORIENTATION"
   ]
  },
  {
   "cell_type": "markdown",
   "metadata": {},
   "source": [
    "Given a random orientation and position of the arm end-effector. We will try to find the wrist-center (WC) position with respect to the base frame. "
   ]
  },
  {
   "cell_type": "markdown",
   "metadata": {},
   "source": [
    "First we need to reverse engineer to retreive the homogeneous transformation matrix using the tf transformations library as the given orientation from ROS is in quarternion. "
   ]
  },
  {
   "cell_type": "code",
   "execution_count": null,
   "metadata": {
    "collapsed": true
   },
   "outputs": [],
   "source": [
    "[INSERT DEMO PICTURE HERE ]"
   ]
  },
  {
   "cell_type": "code",
   "execution_count": 33,
   "metadata": {
    "collapsed": true
   },
   "outputs": [],
   "source": [
    "gripper_quart_orien = [\n",
    "    0.171174, -0.395395, 0.537323, 0.72015\n",
    "]\n",
    "\n",
    "# intrinsic rxyz rotation \n",
    "axes = 'ryzx'\n",
    "\n",
    "# get back euler angles roll, pitch, yaw\n",
    "(roll, pitch, yaw) = tf.transformations.euler_from_quaternion(\n",
    "                gripper_quart_orien,axes=axes)\n",
    "trans_mat_0_6 = tf.transformations.euler_matrix(roll,pitch,yaw,axes=axes)"
   ]
  },
  {
   "cell_type": "code",
   "execution_count": 34,
   "metadata": {},
   "outputs": [
    {
     "data": {
      "text/plain": [
       "array([[ 0.10359162, -0.91570663, -0.38826556,  0.        ],\n",
       "       [ 0.64306452,  0.3594638 , -0.67620545,  0.        ],\n",
       "       [ 0.75877322, -0.17963059,  0.62609588,  0.        ],\n",
       "       [ 0.        ,  0.        ,  0.        ,  1.        ]])"
      ]
     },
     "execution_count": 34,
     "metadata": {},
     "output_type": "execute_result"
    }
   ],
   "source": [
    "trans_mat_0_6"
   ]
  },
  {
   "cell_type": "markdown",
   "metadata": {},
   "source": [
    "We can see the transformation matrix is in the correct form just missing the position vector of the gripper link as the last collumn."
   ]
  },
  {
   "cell_type": "markdown",
   "metadata": {},
   "source": [
    "We need to correct the matrix to match the gripper frame"
   ]
  },
  {
   "cell_type": "code",
   "execution_count": 42,
   "metadata": {},
   "outputs": [
    {
     "data": {
      "text/plain": [
       "Matrix([\n",
       "[-0.388265559062013, 0.915706629713247, 0.103591621019599,   0],\n",
       "[-0.676205445059498, -0.35946379595713, 0.643064518899914,   0],\n",
       "[ 0.626095880611068, 0.179630586747627, 0.758773220789028,   0],\n",
       "[                 0,                 0,                 0, 1.0]])"
      ]
     },
     "execution_count": 42,
     "metadata": {},
     "output_type": "execute_result"
    }
   ],
   "source": [
    "trans_mat_0_G = Matrix(trans_mat_0_6) * R_corr\n",
    "trans_mat_0_G"
   ]
  },
  {
   "cell_type": "markdown",
   "metadata": {},
   "source": [
    "Compare with the Forward matrix and ignore the last column which is still needed to be calculated for the position of the WC. We can see they are close enough"
   ]
  },
  {
   "cell_type": "code",
   "execution_count": 43,
   "metadata": {},
   "outputs": [
    {
     "data": {
      "text/plain": [
       "Matrix([\n",
       "[-0.391706823650805,  0.914054389751172, 0.105215668424479,   2.39621265081565],\n",
       "[-0.672244307120706, -0.362392700664483, 0.645568836026728, 0.0535769417015897],\n",
       "[ 0.628214418689351,  0.182143084089721, 0.756419553600438,  0.743432790332382],\n",
       "[                 0,                  0,                 0,                1.0]])"
      ]
     },
     "execution_count": 43,
     "metadata": {},
     "output_type": "execute_result"
    }
   ],
   "source": [
    "T0_G_eval"
   ]
  },
  {
   "cell_type": "markdown",
   "metadata": {},
   "source": [
    "Now we can calculate the WC position with respect to base frame using the given gripper position and the newly computed transformation matrices."
   ]
  },
  {
   "cell_type": "markdown",
   "metadata": {},
   "source": [
    "As the diagram below, we can calculate the WC position by applying vector math: \n",
    "\n",
    "$r_{0/4} + r_{4/ee} = r_{0/ee}$ (1)\n",
    "\n",
    "Thus,\n",
    "\n",
    "$r_{0/4} = r_{0/ee} - r_{4/ee} $ (2)\n"
   ]
  },
  {
   "cell_type": "markdown",
   "metadata": {},
   "source": [
    "[INSERT DIAGRAM with vectors]"
   ]
  },
  {
   "cell_type": "markdown",
   "metadata": {},
   "source": [
    "Also, the third column of $ trans_mat_0_G $ matrices is the orthonormal vector $ g_n $ defined z axis of the EE relative to the base frame."
   ]
  },
  {
   "cell_type": "code",
   "execution_count": 51,
   "metadata": {
    "collapsed": true
   },
   "outputs": [],
   "source": [
    "g_n = trans_mat_0_G[:-1, 2:3]"
   ]
  },
  {
   "cell_type": "code",
   "execution_count": 60,
   "metadata": {
    "collapsed": true
   },
   "outputs": [],
   "source": [
    "# position of the EE wrt to Base frame from a random position:\n",
    "p = Matrix([ 2.3993, 0.0589297, 0.73854])"
   ]
  },
  {
   "cell_type": "markdown",
   "metadata": {},
   "source": [
    "From equation (2), the magnitude of the translation along z axis of the EE is actually $ d7 $ due to our DH parameter defintion. So we can find WC as below:"
   ]
  },
  {
   "cell_type": "code",
   "execution_count": 61,
   "metadata": {},
   "outputs": [
    {
     "data": {
      "text/plain": [
       "Matrix([\n",
       "[  2.36791173883106],\n",
       "[-0.135918849226674],\n",
       "[ 0.508631714100925]])"
      ]
     },
     "execution_count": 61,
     "metadata": {},
     "output_type": "execute_result"
    }
   ],
   "source": [
    "WC = p - np.matrix(s[d7] * g_n)\n",
    "WC"
   ]
  },
  {
   "cell_type": "markdown",
   "metadata": {
    "collapsed": true
   },
   "source": [
    "We can see the WC coordinates are very close with the one from the Forward Kinematic picture below."
   ]
  },
  {
   "cell_type": "markdown",
   "metadata": {},
   "source": [
    "## 3. Inverse Kinematic Breakdown into Position and Orientation"
   ]
  },
  {
   "cell_type": "markdown",
   "metadata": {},
   "source": [
    "### Positions "
   ]
  },
  {
   "cell_type": "markdown",
   "metadata": {},
   "source": [
    "#### Calculating q1"
   ]
  },
  {
   "cell_type": "markdown",
   "metadata": {},
   "source": [
    "Based on the diagram below, we can see how the whole arm shematic looks like if we rotate joint 1 with an angle $ q1 $. We can also project WC onto the plane of $ x_0 $ and $ y_0 $ to find q1 using $ atan2 $ function"
   ]
  },
  {
   "cell_type": "markdown",
   "metadata": {},
   "source": [
    "{ INSERT DIAGRAM }"
   ]
  },
  {
   "cell_type": "code",
   "execution_count": 67,
   "metadata": {},
   "outputs": [
    {
     "data": {
      "text/plain": [
       "{q6: -5.59, q3: -0.12, q4: 5.46, q1: -0.06, q5: -2.05, q2: 0.86}"
      ]
     },
     "execution_count": 67,
     "metadata": {},
     "output_type": "execute_result"
    }
   ],
   "source": [
    "import math\n",
    "# given thetas value from Forward Kinematic\n",
    "new_pose"
   ]
  },
  {
   "cell_type": "code",
   "execution_count": 66,
   "metadata": {},
   "outputs": [
    {
     "data": {
      "text/plain": [
       "-0.057337385724694594"
      ]
     },
     "execution_count": 66,
     "metadata": {},
     "output_type": "execute_result"
    }
   ],
   "source": [
    "# theta1 and q1 are the same \n",
    "theta1 = math.atan2(WC[1], WC[0])\n",
    "theta1"
   ]
  },
  {
   "cell_type": "markdown",
   "metadata": {},
   "source": [
    "Other components of WC project into $ x1 $ can also be calculated:"
   ]
  },
  {
   "cell_type": "code",
   "execution_count": 70,
   "metadata": {},
   "outputs": [
    {
     "name": "stdout",
     "output_type": "stream",
     "text": [
      "xc  2.02180942245979\n",
      "yc  -0.241368285899075\n"
     ]
    }
   ],
   "source": [
    "xc = sqrt(WC[0]**2 + WC[1]**2) - s[a1]\n",
    "yc = WC[2] - s[d1]\n",
    "print \"xc \", xc\n",
    "print \"yc \", yc"
   ]
  },
  {
   "cell_type": "markdown",
   "metadata": {},
   "source": [
    "#### Calculating q2"
   ]
  },
  {
   "cell_type": "markdown",
   "metadata": {},
   "source": [
    "From definition, q2 (theta2) is the angle between $ x1 $ and $ x2 $ rotating around $ z2 $ axis. Below diagram show that we can calculate q2 using some trigonometry rules.\n",
    "\n",
    "$ theta2 = theta21 + theta22 $\n",
    "\n",
    "We can easily find theta21 using atan2\n",
    "$ theta21 = atan2(yc, xc) $\n",
    "\n",
    "Then we can apply cosine rule to find cosine of theta22\n",
    "\n",
    "$ cos(theta22) = (l_{25} ^ 2 + a2^2 - l_{35}^2) / (2 * a2 * l_{25}) $\n",
    "\n",
    "[INSERT DIAGRAM]"
   ]
  },
  {
   "cell_type": "code",
   "execution_count": 83,
   "metadata": {},
   "outputs": [
    {
     "name": "stdout",
     "output_type": "stream",
     "text": [
      "theta21  -0.118819963317\n",
      "theta22_pos  0.824620320813\n",
      "theta22_neg  -0.824620320813\n",
      "theta2  0.864995969299\n"
     ]
    }
   ],
   "source": [
    "# calculate l35 and l25 based on given information\n",
    "l35 = sqrt(s[a3]*s[a3] + s[d4]*s[d4])\n",
    "l25 = sqrt(xc*xc + yc*yc)\n",
    "\n",
    "# now calculate theta21 and theta22\n",
    "theta21 = math.atan2(yc,xc)\n",
    "cos_theta22 = ((l25 * l25) + (s[a2] * s[a2]) - (l35 * l35)) / (2 * s[a2] * l25)\n",
    "\n",
    "\n",
    "\n",
    "# now calculate theta2\n",
    "if (cos_theta22 >= 1):\n",
    "    cos_theta22 = 1\n",
    "theta22_pos = math.atan2(sqrt(1 - cos_theta22*cos_theta22),cos_theta22)\n",
    "theta22_neg = math.atan2(-sqrt(1 -cos_theta22*cos_theta22),cos_theta22)\n",
    "# from the forward kinematic the positive rotation is actually clockwise so \n",
    "# we have to flip theta2 here  \n",
    "theta2 = ((theta22_pos + theta21) - np.pi/2) * (-1)\n",
    "# if theta2 is not in the range of joint 2 then we can use the negative solution of sign\n",
    "if not ( theta2 >= -0.79 and theta2 <= 1.48):\n",
    "    print(\" USE NEG. SINE THETA2 SOLUTION\")\n",
    "    theta2 = ((theta_neg + theta21) - np.pi/2) * (-1)\n",
    "print \"theta21 \", theta21\n",
    "print 'theta22_pos ', theta22_pos\n",
    "print 'theta22_neg ', theta22_neg\n",
    "print 'theta2 ', theta2\n"
   ]
  },
  {
   "cell_type": "markdown",
   "metadata": {},
   "source": [
    "#### Calculate q3 (theta3)"
   ]
  },
  {
   "cell_type": "markdown",
   "metadata": {},
   "source": [
    "From the digrams sketched below, we can split theta3 in two scenarios and determine which scenarios to apply based on the sign of the cosine of angle $theta_{32}$ which is between $l_{35}$ and $a2$\n",
    "\n",
    "[INSERT DIAGRAMS]"
   ]
  },
  {
   "cell_type": "code",
   "execution_count": 94,
   "metadata": {},
   "outputs": [
    {
     "name": "stdout",
     "output_type": "stream",
     "text": [
      "cosine_theta32  0.0880911994350609\n",
      "Cosine theta32 is POSITIVE\n",
      "Theta 3:  -0.0522210712116\n"
     ]
    }
   ],
   "source": [
    "# cosine_theta32 = -cos (np.pi - theta_32)\n",
    "cosine_theta32 = (l25*l25 - s[a2]*s[a2] - l35*l35) / (2 * s[a2] * l35)\n",
    "print \"cosine_theta32 \",cosine_theta32\n",
    "# fix cosine to just in case we hit a special case that \n",
    "if (cosine_theta32 >= 1):\n",
    "    cosine_theta32 = 1\n",
    "#theta32 = math.acos(cosine_theta32)\n",
    "if (cosine_theta32 <= 0):\n",
    "    print(\"Cosine theta32 is NEGATIVE\")\n",
    "    theta31 = math.atan2(s[a3],s[d4])\n",
    "    theta32_pos = math.atan2(sqrt(1 - cosine_theta32*cosine_theta32), cosine_theta32)\n",
    "    theta32_neg = math.atan2(-sqrt(1 - cosine_theta32*cosine_theta32), cosine_theta32)\n",
    "    theta3 = theta32_pos - theta31 - np.pi/2\n",
    "    if not (theta3 >= -3.67 and theta3 < 1.13):\n",
    "        print(\" USE NEG. THETA3 SOLUTION\")\n",
    "        theta3 = theta32_neg - theta31 - np.pi/2\n",
    "else: # theta32 is smaller than 90\n",
    "    print(\"Cosine theta32 is POSITIVE\")\n",
    "    theta32_1 = math.atan2(sqrt(1 - cosine_theta32*cosine_theta32), cosine_theta32)\n",
    "    theta32_2 = math.atan2(-sqrt(1 - cosine_theta32*cosine_theta32), cosine_theta32)\n",
    "    if (theta32_1 <= np.pi/2):\n",
    "        theta32 = theta32_1\n",
    "    else:\n",
    "        theta32 = theta32_2\n",
    "    theta31 = math.atan2(s[d4],s[a3])\n",
    "    theta3 = np.pi - theta32 - theta31\n",
    "    theta3 = theta3 * (-1)\n",
    "    # use the other solution if the current solution is not in range\n",
    "    if not (theta3 >= -3.67 and theta3 < 1.13):\n",
    "        theta3 = np.pi - theta32_2 - theta31 \n",
    "        theta3 = theta3 * (-1)\n",
    "        in_range = (theta3 >= -3.67 and theta3 < 1.13)\n",
    "        print (\"Alternative solution : \",theta3, \" in range: \", in_range)\n",
    "\n",
    "print \"Theta 3: \", theta3\n",
    "    "
   ]
  },
  {
   "cell_type": "markdown",
   "metadata": {},
   "source": [
    "##### Note: the result for q3 is not super accurate but close enough in my opinion."
   ]
  },
  {
   "cell_type": "markdown",
   "metadata": {},
   "source": [
    "### CALCULATE Q4, Q5, Q6 "
   ]
  },
  {
   "cell_type": "code",
   "execution_count": 106,
   "metadata": {},
   "outputs": [
    {
     "data": {
      "text/plain": [
       "Matrix([\n",
       "[ 0.725004283326592, -0.0416154649086734, 0.687485957848252],\n",
       "[  0.68635618631707, -0.0393970524635675, -0.72619767127241],\n",
       "[0.0573059740549109,   0.998356662389558,                 0]])"
      ]
     },
     "execution_count": 106,
     "metadata": {},
     "output_type": "execute_result"
    }
   ],
   "source": [
    "R_0_G = trans_mat_0_G[:3,:3]\n",
    "R_3_0 = T0_3[:3,:3].inv()\n",
    "R_3_0 = R_3_0.subs({q1:theta1, q2:theta2, q3:theta3})\n",
    "R_3_0"
   ]
  },
  {
   "cell_type": "code",
   "execution_count": 107,
   "metadata": {},
   "outputs": [
    {
     "data": {
      "text/plain": [
       "Matrix([\n",
       "[-0.388265559062013, 0.915706629713247, 0.103591621019599],\n",
       "[-0.676205445059498, -0.35946379595713, 0.643064518899914],\n",
       "[ 0.626095880611068, 0.179630586747627, 0.758773220789028]])"
      ]
     },
     "execution_count": 107,
     "metadata": {},
     "output_type": "execute_result"
    }
   ],
   "source": [
    "R_0_G"
   ]
  },
  {
   "cell_type": "code",
   "execution_count": 108,
   "metadata": {},
   "outputs": [
    {
     "data": {
      "text/plain": [
       "Matrix([\n",
       "[ 0.177078536768519,   0.80234398778829,   0.56998887451941],\n",
       "[-0.694517337493916,  0.512215410397894, -0.505253442612001],\n",
       "[-0.697344147273269, -0.306397615217384,   0.64794416553652]])"
      ]
     },
     "execution_count": 108,
     "metadata": {},
     "output_type": "execute_result"
    }
   ],
   "source": [
    "R3_6 = R_3_0 * R_0_G\n",
    "R3_6"
   ]
  },
  {
   "cell_type": "code",
   "execution_count": 109,
   "metadata": {
    "collapsed": true
   },
   "outputs": [],
   "source": [
    "theta4, theta5, theta6 = tf.transformations.euler_from_matrix(np.matrix(R3_6),axes='ryzx')"
   ]
  },
  {
   "cell_type": "code",
   "execution_count": 112,
   "metadata": {},
   "outputs": [
    {
     "name": "stdout",
     "output_type": "stream",
     "text": [
      "('theta 4', 1.3221196640928914)\n",
      "('theta 5', -0.7677488305396455)\n",
      "('theta 6', 0.7785558319416492)\n"
     ]
    }
   ],
   "source": [
    "print(\"theta 4\", theta4 )\n",
    "print(\"theta 5\", theta5)\n",
    "print(\"theta 6\", theta6)"
   ]
  },
  {
   "cell_type": "code",
   "execution_count": 111,
   "metadata": {},
   "outputs": [
    {
     "name": "stdout",
     "output_type": "stream",
     "text": [
      "5.46\n",
      "-2.05\n",
      "-5.59\n"
     ]
    }
   ],
   "source": [
    "print new_pose[q4]\n",
    "print new_pose[q5]\n",
    "print new_pose[q6]"
   ]
  },
  {
   "cell_type": "code",
   "execution_count": null,
   "metadata": {
    "collapsed": true
   },
   "outputs": [],
   "source": []
  }
 ],
 "metadata": {
  "kernelspec": {
   "display_name": "Python 2",
   "language": "python",
   "name": "python2"
  },
  "language_info": {
   "codemirror_mode": {
    "name": "ipython",
    "version": 2
   },
   "file_extension": ".py",
   "mimetype": "text/x-python",
   "name": "python",
   "nbconvert_exporter": "python",
   "pygments_lexer": "ipython2",
   "version": "2.7.12"
  }
 },
 "nbformat": 4,
 "nbformat_minor": 2
}
