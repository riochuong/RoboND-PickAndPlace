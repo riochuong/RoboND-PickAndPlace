{
 "cells": [
  {
   "cell_type": "code",
   "execution_count": 7,
   "metadata": {
    "collapsed": true
   },
   "outputs": [],
   "source": [
    "from sympy import symbols, cos, sin, pi, simplify, sqrt, atan2\n",
    "from sympy.matrices import Matrix\n",
    "import numpy as np\n",
    "from numpy import array"
   ]
  },
  {
   "cell_type": "code",
   "execution_count": 8,
   "metadata": {
    "collapsed": true
   },
   "outputs": [],
   "source": [
    "## Create symbols for joint variables\n",
    "q1, q2, q3, q4, q5, q6, q7 = symbols('q1:8') # theta_i\n",
    "d1, d2, d3, d4, d5, d6, d7 = symbols('d1:8')\n",
    "a0, a1, a2, a3, a4, a5, a6 = symbols('a0:7')\n",
    "alpha0, alpha1, alpha2, alpha3, alpha4, alpha5, alpha6 = symbols('alpha0:7')\n",
    "\n",
    "\n",
    "### KUKA KR210 ###\n",
    "s = {\n",
    "    alpha0: 0,     a0:    0,          d1: 0.75,\n",
    "    alpha1: -pi/2, a1:    0.35,       d2: 0,       q2: (q2 - pi/2),\n",
    "    alpha2: 0,     a2:    1.25,       d3: 0,\n",
    "    alpha3: -pi/2, a3:  -0.054,       d4: 1.50,\n",
    "    alpha4: pi/2,  a4:       0,       d5: 0,\n",
    "    alpha5: -pi/2, a5:       0,       d6: 0,\n",
    "    alpha6: 0,     a6:       0,       d7: 0.303,    q7:0\n",
    "    \n",
    "}\n"
   ]
  },
  {
   "cell_type": "code",
   "execution_count": 9,
   "metadata": {
    "collapsed": true
   },
   "outputs": [],
   "source": [
    "### HOMOGENEOUS TRANSFORMATION \n",
    "T0_1 = Matrix([[cos(q1),                        -sin(q1),             0,                  a0],\n",
    "               [sin(q1)*cos(alpha0), cos(q1)*cos(alpha0),  -sin(alpha0),     -sin(alpha0)*d1],\n",
    "               [sin(q1)*sin(alpha0), cos(q1)*sin(alpha0),   cos(alpha0),      cos(alpha0)*d1],\n",
    "               [                  0,                    0,            0,     1]])\n",
    "T0_1 = T0_1.subs(s)\n",
    "\n",
    "## T1_2\n",
    "T1_2 = Matrix([[cos(q2),                        -sin(q2),             0,                  a1],\n",
    "               [sin(q2)*cos(alpha1), cos(q2)*cos(alpha1),  -sin(alpha1),     -sin(alpha1)*d2],\n",
    "               [sin(q2)*sin(alpha1), cos(q2)*sin(alpha1),   cos(alpha1),      cos(alpha1)*d2],\n",
    "               [                  0,                    0,            0,     1]])\n",
    "T1_2 = T1_2.subs(s)\n",
    "\n",
    "## T2_3\n",
    "T2_3 = Matrix([[cos(q3),                        -sin(q3),             0,                  a2],\n",
    "               [sin(q3)*cos(alpha2), cos(q3)*cos(alpha2),  -sin(alpha2),     -sin(alpha2)*d3],\n",
    "               [sin(q3)*sin(alpha2), cos(q3)*sin(alpha2),   cos(alpha2),      cos(alpha2)*d3],\n",
    "               [                  0,                    0,            0,     1]])\n",
    "T2_3 = T2_3.subs(s)\n",
    "\n",
    "\n",
    "## T3_4\n",
    "T3_4 = Matrix([[cos(q4),                        -sin(q4),             0,                  a3],\n",
    "               [sin(q4)*cos(alpha3), cos(q4)*cos(alpha3),  -sin(alpha3),     -sin(alpha3)*d4],\n",
    "               [sin(q4)*sin(alpha3), cos(q4)*sin(alpha3),   cos(alpha3),      cos(alpha3)*d4],\n",
    "               [                  0,                    0,            0,     1]])\n",
    "T3_4 = T3_4.subs(s)\n",
    "\n",
    "\n",
    "## T4_5\n",
    "T4_5 = Matrix([[cos(q5),                        -sin(q5),             0,                  a4],\n",
    "               [sin(q5)*cos(alpha4), cos(q5)*cos(alpha4),  -sin(alpha4),     -sin(alpha4)*d5],\n",
    "               [sin(q5)*sin(alpha4), cos(q5)*sin(alpha4),   cos(alpha4),      cos(alpha4)*d5],\n",
    "               [                  0,                    0,            0,     1]])\n",
    "T4_5 = T4_5.subs(s)\n",
    "\n",
    "\n",
    "\n",
    "## T5_6\n",
    "T5_6 = Matrix([[cos(q6),                        -sin(q6),             0,                  a5],\n",
    "               [sin(q6)*cos(alpha5), cos(q6)*cos(alpha5),  -sin(alpha5),     -sin(alpha5)*d6],\n",
    "               [sin(q6)*sin(alpha5), cos(q6)*sin(alpha5),   cos(alpha5),      cos(alpha5)*d6],\n",
    "               [                  0,                    0,            0,     1]])\n",
    "T5_6 = T5_6.subs(s)\n",
    "\n",
    "## T6_G\n",
    "T6_G = Matrix([[            cos(q7),            -sin(q7),             0,                  a6],\n",
    "               [sin(q7)*cos(alpha6), cos(q7)*cos(alpha6),  -sin(alpha6),     -sin(alpha6)*d7],\n",
    "               [sin(q7)*sin(alpha6), cos(q7)*sin(alpha6),   cos(alpha6),      cos(alpha6)*d7],\n",
    "               [                  0,                    0,            0,     1]])\n",
    "T6_G = T6_G.subs(s)"
   ]
  },
  {
   "cell_type": "code",
   "execution_count": 10,
   "metadata": {
    "collapsed": true
   },
   "outputs": [],
   "source": [
    "## COMPOSITION OF HOMOGENEOUS TRANSFORMS\n",
    "\n",
    "T0_2 = simplify(T0_1 * T1_2) # base_link to link_2\n",
    "T0_3 = simplify(T0_2 * T2_3) # base_link to link_3\n",
    "T0_4 = simplify(T0_3 * T3_4) # base_link to link_4\n",
    "T0_5 = simplify(T0_4 * T4_5) # base_link to link_5\n",
    "T0_6 = simplify(T0_5 * T5_6) # base_link to link_6\n",
    "T0_G = simplify(T0_6 * T6_G) # base_link to gripper_link\n"
   ]
  },
  {
   "cell_type": "code",
   "execution_count": 11,
   "metadata": {
    "collapsed": true
   },
   "outputs": [],
   "source": [
    "## Correction needed to account of orientation difference between deifintion of gripper link in URDF\n",
    "## versus DH convention\n",
    "\n",
    "R_z = Matrix([[    cos(np.pi),     -sin(np.pi),         0,            0],\n",
    "              [    sin(np.pi),      cos(np.pi),         0,            0],\n",
    "              [             0,               0,         1,            0],\n",
    "              [             0,               0,         0,            1]\n",
    "             ])\n",
    "\n",
    "R_y = Matrix([[    cos(-np.pi/2),               0,         sin(-np.pi/2),            0],\n",
    "              [                0,               1,                     0,            0],\n",
    "              [   -sin(-np.pi/2),               0,         cos(-np.pi/2),            0],\n",
    "              [             0,                  0,                     0,            1]\n",
    "             ])\n",
    "\n",
    "R_corr = simplify(R_z * R_y)"
   ]
  },
  {
   "cell_type": "code",
   "execution_count": 12,
   "metadata": {
    "scrolled": true
   },
   "outputs": [
    {
     "name": "stdout",
     "output_type": "stream",
     "text": [
      "('T0_1 = ', Matrix([\n",
      "[1.0,   0,   0,    0],\n",
      "[  0, 1.0,   0,    0],\n",
      "[  0,   0, 1.0, 0.75],\n",
      "[  0,   0,   0,  1.0]]))\n",
      "\n",
      "\n",
      "('T0_2 = ', Matrix([\n",
      "[  0, 1.0,   0, 0.35],\n",
      "[  0,   0, 1.0,    0],\n",
      "[1.0,   0,   0, 0.75],\n",
      "[  0,   0,   0,  1.0]]))\n",
      "\n",
      "\n",
      "('T0_3 = ', Matrix([\n",
      "[  0, 1.0,   0, 0.35],\n",
      "[  0,   0, 1.0,    0],\n",
      "[1.0,   0,   0,  2.0],\n",
      "[  0,   0,   0,  1.0]]))\n",
      "\n",
      "\n",
      "('T0_4 = ', Matrix([\n",
      "[  0,    0, 1.0,  1.85],\n",
      "[  0, -1.0,   0,     0],\n",
      "[1.0,    0,   0, 1.946],\n",
      "[  0,    0,   0,   1.0]]))\n",
      "\n",
      "\n",
      "\n",
      "('T0_5 = ', Matrix([\n",
      "[  0, 1.0,   0,  1.85],\n",
      "[  0,   0, 1.0,     0],\n",
      "[1.0,   0,   0, 1.946],\n",
      "[  0,   0,   0,   1.0]]))\n",
      "\n",
      "\n",
      "\n",
      "('T0_6 = ', Matrix([\n",
      "[  0,    0, 1.0,  1.85],\n",
      "[  0, -1.0,   0,     0],\n",
      "[1.0,    0,   0, 1.946],\n",
      "[  0,    0,   0,   1.0]]))\n",
      "\n",
      "\n",
      "\n",
      "('T0_G = ', Matrix([\n",
      "[  0,    0, 1.0, 2.153],\n",
      "[  0, -1.0,   0,     0],\n",
      "[1.0,    0,   0, 1.946],\n",
      "[  0,    0,   0,   1.0]]))\n",
      "\n",
      "\n",
      "\n"
     ]
    }
   ],
   "source": [
    "sub_dict = {q1:-2.77, q2:0.36, q3:-2.41, q4:4.56, q5:1.31, q6:4.70}\n",
    "sub_dict_center = {q1:0, q2: 0, q3:0, q4:0, q5:0, q6:0}\n",
    "print(\"T0_1 = \", T0_1.evalf(subs=sub_dict_center))\n",
    "print(\"\\n\")\n",
    "print(\"T0_2 = \", T0_2.evalf(subs=sub_dict_center))\n",
    "print(\"\\n\")\n",
    "print(\"T0_3 = \", T0_3.evalf(subs=sub_dict_center))\n",
    "print(\"\\n\")\n",
    "print(\"T0_4 = \", T0_4.evalf(subs=sub_dict_center))\n",
    "print(\"\\n\\n\")\n",
    "print(\"T0_5 = \", T0_5.evalf(subs=sub_dict_center))\n",
    "print(\"\\n\\n\")\n",
    "print(\"T0_6 = \", T0_6.evalf(subs=sub_dict_center))\n",
    "print(\"\\n\\n\")\n",
    "print(\"T0_G = \", T0_G.evalf(subs=sub_dict_center))\n",
    "print(\"\\n\\n\")"
   ]
  },
  {
   "cell_type": "code",
   "execution_count": 122,
   "metadata": {},
   "outputs": [
    {
     "name": "stdout",
     "output_type": "stream",
     "text": [
      "('T1_2 ', Matrix([\n",
      "[sin(q2),  cos(q2), 0, 0.35],\n",
      "[      0,        0, 1,    0],\n",
      "[      0, -sin(q2), 0,    0],\n",
      "[      0,        0, 0,    1]]))\n",
      "\n",
      "\n",
      "('T0_1 ', Matrix([\n",
      "[cos(q1), -sin(q1), 0,    0],\n",
      "[sin(q1),  cos(q1), 0,    0],\n",
      "[sin(q1),        0, 1, 0.75],\n",
      "[      0,        0, 0,    1]]))\n",
      "\n",
      "\n",
      "('T2_3 ', Matrix([\n",
      "[cos(q3), -sin(q3), 0, 1.25],\n",
      "[sin(q3),  cos(q3), 0,    0],\n",
      "[sin(q3),        0, 1,    0],\n",
      "[      0,        0, 0,    1]]))\n",
      "\n",
      "\n",
      "('T0_2 ', Matrix([\n",
      "[sin(q2)*cos(q1),           cos(q1)*cos(q2), -sin(q1),        0.35*cos(q1)],\n",
      "[sin(q1)*sin(q2),           sin(q1)*cos(q2),  cos(q1),        0.35*sin(q1)],\n",
      "[sin(q1)*sin(q2), sin(q1)*cos(q2) - sin(q2),        0, 0.35*sin(q1) + 0.75],\n",
      "[              0,                         0,        0,                   1]]))\n",
      "('T0_1 ', Matrix([\n",
      "[cos(q1), -sin(q1), 0,    0],\n",
      "[sin(q1),  cos(q1), 0,    0],\n",
      "[sin(q1),        0, 1, 0.75],\n",
      "[      0,        0, 0,    1]]))\n"
     ]
    }
   ],
   "source": [
    "print(\"T1_2 \", T1_2)\n",
    "print(\"\\n\")\n",
    "print(\"T0_1 \", T0_1)\n",
    "print(\"\\n\")\n",
    "print(\"T2_3 \", T2_3)\n",
    "print(\"\\n\")\n",
    "print(\"T0_2 \", T0_2)\n",
    "print(\"T0_1 \", T0_1)\n"
   ]
  },
  {
   "cell_type": "code",
   "execution_count": 137,
   "metadata": {},
   "outputs": [
    {
     "name": "stdout",
     "output_type": "stream",
     "text": [
      "('cos q2-pi/2', sin(q2))\n",
      "('sin q2-pi/2', -cos(q2))\n"
     ]
    }
   ],
   "source": [
    "test_02 = Matrix([cos(q2)])\n",
    "test_02.subs(s)\n",
    "a_dict = {q2: q2 - pi/2}\n",
    "a = cos(q2)\n",
    "b= sin(q2)\n",
    "print (\"cos q2-pi/2\",a.subs(a_dict))\n",
    "print(\"sin q2-pi/2\",b.subs(a_dict))"
   ]
  },
  {
   "cell_type": "code",
   "execution_count": 99,
   "metadata": {
    "collapsed": true
   },
   "outputs": [],
   "source": [
    "## Total Homogeneous Transform between Base_Link and Gripper_link\n",
    "T_total = simplify(T0_G * R_corr)\n"
   ]
  },
  {
   "cell_type": "code",
   "execution_count": 62,
   "metadata": {
    "collapsed": true
   },
   "outputs": [],
   "source": [
    "import math\n",
    "def Quaternion_toEulerianAngle(x, y, z, w):\n",
    "    ysqr = y*y\n",
    "    t0 = +2.0 * (w * x + y*z)\n",
    "    t1 = +1.0 - 2.0 * (x*x + ysqr)\n",
    "    X = math.degrees(math.atan2(t0, t1))\n",
    "    t2 = +2.0 * (w*y - z*x)\n",
    "    t2 =  1 if t2 > 1 else t2\n",
    "    t2 = -1 if t2 < -1 else t2\n",
    "    Y = math.degrees(math.asin(t2))\n",
    "    t3 = +2.0 * (w * z + x*y)\n",
    "    t4 = +1.0 - 2.0 * (ysqr + z*z)\n",
    "    Z = math.degrees(math.atan2(t3, t4))\n",
    "    return X, Y, Z "
   ]
  },
  {
   "cell_type": "code",
   "execution_count": 63,
   "metadata": {
    "collapsed": true
   },
   "outputs": [],
   "source": [
    "import rospy"
   ]
  },
  {
   "cell_type": "code",
   "execution_count": 64,
   "metadata": {},
   "outputs": [
    {
     "data": {
      "text/plain": [
       "(1.318794916838314, -0.8634756793657775, 0.8087692980522054)"
      ]
     },
     "execution_count": 64,
     "metadata": {},
     "output_type": "execute_result"
    }
   ],
   "source": [
    "t02 =T_total.evalf(subs=sub_dict)\n",
    "t02 = np.matrix(t02)\n",
    "tf.transformations.euler_from_matrix(t02, axes='szxy')"
   ]
  },
  {
   "cell_type": "code",
   "execution_count": null,
   "metadata": {
    "collapsed": true
   },
   "outputs": [],
   "source": []
  },
  {
   "cell_type": "code",
   "execution_count": null,
   "metadata": {
    "collapsed": true
   },
   "outputs": [],
   "source": []
  }
 ],
 "metadata": {
  "kernelspec": {
   "display_name": "Python 2",
   "language": "python",
   "name": "python2"
  },
  "language_info": {
   "codemirror_mode": {
    "name": "ipython",
    "version": 2
   },
   "file_extension": ".py",
   "mimetype": "text/x-python",
   "name": "python",
   "nbconvert_exporter": "python",
   "pygments_lexer": "ipython2",
   "version": "2.7.12"
  }
 },
 "nbformat": 4,
 "nbformat_minor": 2
}
