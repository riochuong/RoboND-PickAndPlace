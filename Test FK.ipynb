{
 "cells": [
  {
   "cell_type": "code",
   "execution_count": 7,
   "metadata": {
    "collapsed": true
   },
   "outputs": [],
   "source": [
    "from sympy import symbols, cos, sin, pi, simplify, sqrt, atan2\n",
    "from sympy.matrices import Matrix\n",
    "import numpy as np\n",
    "from numpy import array"
   ]
  },
  {
   "cell_type": "code",
   "execution_count": 8,
   "metadata": {
    "collapsed": true
   },
   "outputs": [],
   "source": [
    "## Create symbols for joint variables\n",
    "q1, q2, q3, q4, q5, q6, q7 = symbols('q1:8') # theta_i\n",
    "d1, d2, d3, d4, d5, d6, d7 = symbols('d1:8')\n",
    "a0, a1, a2, a3, a4, a5, a6 = symbols('a0:7')\n",
    "alpha0, alpha1, alpha2, alpha3, alpha4, alpha5, alpha6 = symbols('alpha0:7')\n",
    "\n",
    "\n",
    "### KUKA KR210 ###\n",
    "s = {\n",
    "    alpha0: 0,     a0:    0,          d1: 0.75,\n",
    "    \n",
    "    alpha1: -pi/2, a1:    0.35,       d2: 0,       q2: (q2 - pi/2),\n",
    "    \n",
    "    alpha2: 0,     a2:    1.25,       d3: 0,\n",
    "    \n",
    "    alpha3: -pi/2, a3:  -0.054,       d4: 1.50,\n",
    "    \n",
    "    alpha4: pi/2,  a4:       0,       d5: 0,\n",
    "    \n",
    "    alpha5: -pi/2, a5:       0,       d6: 0,\n",
    "    \n",
    "    alpha6: 0,     a6:       0,       d7: 0.303,    q7:0\n",
    "    \n",
    "}\n"
   ]
  },
  {
   "cell_type": "code",
   "execution_count": 9,
   "metadata": {
    "collapsed": true
   },
   "outputs": [],
   "source": [
    "### HOMOGENEOUS TRANSFORMATION \n",
    "T0_1 = Matrix([[cos(q1),                        -sin(q1),             0,                  a0],\n",
    "               [sin(q1)*cos(alpha0), cos(q1)*cos(alpha0),  -sin(alpha0),     -sin(alpha0)*d1],\n",
    "               [sin(q1)*sin(alpha0), cos(q1)*sin(alpha0),   cos(alpha0),      cos(alpha0)*d1],\n",
    "               [                  0,                    0,            0,     1]])\n",
    "T0_1 = T0_1.subs(s)\n",
    "\n",
    "## T1_2\n",
    "T1_2 = Matrix([[cos(q2),                        -sin(q2),             0,                  a1],\n",
    "               [sin(q2)*cos(alpha1), cos(q2)*cos(alpha1),  -sin(alpha1),     -sin(alpha1)*d2],\n",
    "               [sin(q2)*sin(alpha1), cos(q2)*sin(alpha1),   cos(alpha1),      cos(alpha1)*d2],\n",
    "               [                  0,                    0,            0,     1]])\n",
    "T1_2 = T1_2.subs(s)\n",
    "\n",
    "## T2_3\n",
    "T2_3 = Matrix([[cos(q3),                        -sin(q3),             0,                  a2],\n",
    "               [sin(q3)*cos(alpha2), cos(q3)*cos(alpha2),  -sin(alpha2),     -sin(alpha2)*d3],\n",
    "               [sin(q3)*sin(alpha2), cos(q3)*sin(alpha2),   cos(alpha2),      cos(alpha2)*d3],\n",
    "               [                  0,                    0,            0,     1]])\n",
    "T2_3 = T2_3.subs(s)\n",
    "\n",
    "\n",
    "## T3_4\n",
    "T3_4 = Matrix([[cos(q4),                        -sin(q4),             0,                  a3],\n",
    "               [sin(q4)*cos(alpha3), cos(q4)*cos(alpha3),  -sin(alpha3),     -sin(alpha3)*d4],\n",
    "               [sin(q4)*sin(alpha3), cos(q4)*sin(alpha3),   cos(alpha3),      cos(alpha3)*d4],\n",
    "               [                  0,                    0,            0,     1]])\n",
    "T3_4 = T3_4.subs(s)\n",
    "\n",
    "\n",
    "## T4_5\n",
    "T4_5 = Matrix([[cos(q5),                        -sin(q5),             0,                  a4],\n",
    "               [sin(q5)*cos(alpha4), cos(q5)*cos(alpha4),  -sin(alpha4),     -sin(alpha4)*d5],\n",
    "               [sin(q5)*sin(alpha4), cos(q5)*sin(alpha4),   cos(alpha4),      cos(alpha4)*d5],\n",
    "               [                  0,                    0,            0,     1]])\n",
    "T4_5 = T4_5.subs(s)\n",
    "\n",
    "\n",
    "\n",
    "## T5_6\n",
    "T5_6 = Matrix([[cos(q6),                        -sin(q6),             0,                  a5],\n",
    "               [sin(q6)*cos(alpha5), cos(q6)*cos(alpha5),  -sin(alpha5),     -sin(alpha5)*d6],\n",
    "               [sin(q6)*sin(alpha5), cos(q6)*sin(alpha5),   cos(alpha5),      cos(alpha5)*d6],\n",
    "               [                  0,                    0,            0,     1]])\n",
    "T5_6 = T5_6.subs(s)\n",
    "\n",
    "## T6_G\n",
    "T6_G = Matrix([[            cos(q7),            -sin(q7),             0,                  a6],\n",
    "               [sin(q7)*cos(alpha6), cos(q7)*cos(alpha6),  -sin(alpha6),     -sin(alpha6)*d7],\n",
    "               [sin(q7)*sin(alpha6), cos(q7)*sin(alpha6),   cos(alpha6),      cos(alpha6)*d7],\n",
    "               [                  0,                    0,            0,     1]])\n",
    "T6_G = T6_G.subs(s)"
   ]
  },
  {
   "cell_type": "code",
   "execution_count": 10,
   "metadata": {
    "collapsed": true
   },
   "outputs": [],
   "source": [
    "## COMPOSITION OF HOMOGENEOUS TRANSFORMS\n",
    "\n",
    "T0_2 = simplify(T0_1 * T1_2) # base_link to link_2\n",
    "T0_3 = simplify(T0_2 * T2_3) # base_link to link_3\n",
    "T0_4 = simplify(T0_3 * T3_4) # base_link to link_4\n",
    "T0_5 = simplify(T0_4 * T4_5) # base_link to link_5\n",
    "T0_6 = simplify(T0_5 * T5_6) # base_link to link_6\n",
    "T0_G = simplify(T0_6 * T6_G) # base_link to gripper_link\n"
   ]
  },
  {
   "cell_type": "code",
   "execution_count": 11,
   "metadata": {
    "collapsed": true
   },
   "outputs": [],
   "source": [
    "## Correction needed to account of orientation difference between deifintion of gripper link in URDF\n",
    "## versus DH convention\n",
    "\n",
    "R_z = Matrix([[    cos(np.pi),     -sin(np.pi),         0,            0],\n",
    "              [    sin(np.pi),      cos(np.pi),         0,            0],\n",
    "              [             0,               0,         1,            0],\n",
    "              [             0,               0,         0,            1]\n",
    "             ])\n",
    "\n",
    "R_y = Matrix([[    cos(-np.pi/2),               0,         sin(-np.pi/2),            0],\n",
    "              [                0,               1,                     0,            0],\n",
    "              [   -sin(-np.pi/2),               0,         cos(-np.pi/2),            0],\n",
    "              [             0,                  0,                     0,            1]\n",
    "             ])\n",
    "\n",
    "R_corr = simplify(R_z * R_y)"
   ]
  },
  {
   "cell_type": "code",
   "execution_count": 210,
   "metadata": {
    "scrolled": true
   },
   "outputs": [
    {
     "name": "stdout",
     "output_type": "stream",
     "text": [
      "('T0_1 = ', Matrix([\n",
      "[1.0,   0,   0,    0],\n",
      "[  0, 1.0,   0,    0],\n",
      "[  0,   0, 1.0, 0.75],\n",
      "[  0,   0,   0,  1.0]]))\n",
      "\n",
      "\n",
      "('T0_2 = ', Matrix([\n",
      "[  0, 1.0,   0, 0.35],\n",
      "[  0,   0, 1.0,    0],\n",
      "[1.0,   0,   0, 0.75],\n",
      "[  0,   0,   0,  1.0]]))\n",
      "\n",
      "\n",
      "('T0_3 = ', Matrix([\n",
      "[  0, 1.0,   0, 0.35],\n",
      "[  0,   0, 1.0,    0],\n",
      "[1.0,   0,   0,  2.0],\n",
      "[  0,   0,   0,  1.0]]))\n",
      "\n",
      "\n",
      "('T0_4 = ', Matrix([\n",
      "[  0,    0, 1.0,  1.85],\n",
      "[  0, -1.0,   0,     0],\n",
      "[1.0,    0,   0, 1.946],\n",
      "[  0,    0,   0,   1.0]]))\n",
      "\n",
      "\n",
      "\n",
      "('T0_5 = ', Matrix([\n",
      "[  0, 1.0,   0,  1.85],\n",
      "[  0,   0, 1.0,     0],\n",
      "[1.0,   0,   0, 1.946],\n",
      "[  0,   0,   0,   1.0]]))\n",
      "\n",
      "\n",
      "\n",
      "('T0_6 = ', Matrix([\n",
      "[  0,    0, 1.0,  1.85],\n",
      "[  0, -1.0,   0,     0],\n",
      "[1.0,    0,   0, 1.946],\n",
      "[  0,    0,   0,   1.0]]))\n",
      "\n",
      "\n",
      "\n",
      "('T0_G = ', Matrix([\n",
      "[  0,    0, 1.0, 2.153],\n",
      "[  0, -1.0,   0,     0],\n",
      "[1.0,    0,   0, 1.946],\n",
      "[  0,    0,   0,   1.0]]))\n",
      "\n",
      "\n",
      "\n"
     ]
    }
   ],
   "source": [
    "sub_dict_center = {q1:0, q2:-0, q3:0, q4:0, q5:0, q6:0}\n",
    "#sub_dict_center = {q1:0, q2: 0, q3:0, q4:0, q5:0, q6:0}\n",
    "print(\"T0_1 = \", T0_1.evalf(subs=sub_dict_center))\n",
    "print(\"\\n\")\n",
    "print(\"T0_2 = \", T0_2.evalf(subs=sub_dict_center))\n",
    "print(\"\\n\")\n",
    "print(\"T0_3 = \", T0_3.evalf(subs=sub_dict_center))\n",
    "print(\"\\n\")\n",
    "print(\"T0_4 = \", T0_4.evalf(subs=sub_dict_center))\n",
    "print(\"\\n\\n\")\n",
    "print(\"T0_5 = \", T0_5.evalf(subs=sub_dict_center))\n",
    "print(\"\\n\\n\")\n",
    "print(\"T0_6 = \", T0_6.evalf(subs=sub_dict_center))\n",
    "print(\"\\n\\n\")\n",
    "print(\"T0_G = \", T0_G.evalf(subs=sub_dict_center))\n",
    "print(\"\\n\\n\")"
   ]
  },
  {
   "cell_type": "code",
   "execution_count": 219,
   "metadata": {
    "collapsed": true
   },
   "outputs": [],
   "source": [
    "T_total = simplify(T0_G * R_corr)"
   ]
  },
  {
   "cell_type": "code",
   "execution_count": 220,
   "metadata": {},
   "outputs": [
    {
     "data": {
      "text/plain": [
       "Matrix([\n",
       "[                  1.0,                     0, 6.12323399573677e-17, 2.153],\n",
       "[-7.49879891330929e-33,                   1.0, 1.22464679914735e-16,     0],\n",
       "[-6.12323399573677e-17, -1.22464679914735e-16,                  1.0, 1.946],\n",
       "[                    0,                     0,                    0,   1.0]])"
      ]
     },
     "execution_count": 220,
     "metadata": {},
     "output_type": "execute_result"
    }
   ],
   "source": [
    "T_total.evalf(subs=sub_dict_center)"
   ]
  },
  {
   "cell_type": "markdown",
   "metadata": {},
   "source": [
    "## FIND WRIST CENTER"
   ]
  },
  {
   "cell_type": "code",
   "execution_count": 224,
   "metadata": {
    "scrolled": true
   },
   "outputs": [
    {
     "data": {
      "text/plain": [
       "Matrix([\n",
       "[ 1.85],\n",
       "[    0],\n",
       "[1.946]])"
      ]
     },
     "execution_count": 224,
     "metadata": {},
     "output_type": "execute_result"
    }
   ],
   "source": [
    "t0g = T0_G.evalf(subs=sub_dict_center)\n",
    "\n",
    "n = t0g[:-1,2:3]\n",
    "p = t0g[:-1,3:4]\n",
    "\n",
    "# multiply for the length \n",
    "n = 0.303 * n\n",
    "wc = p - n\n",
    "wc"
   ]
  },
  {
   "cell_type": "markdown",
   "metadata": {
    "collapsed": true
   },
   "source": [
    "### CALCULATE TRANSFORMATION MATRIX"
   ]
  },
  {
   "cell_type": "code",
   "execution_count": 252,
   "metadata": {
    "collapsed": true
   },
   "outputs": [],
   "source": [
    "#import rospy\n",
    "import tf"
   ]
  },
  {
   "cell_type": "code",
   "execution_count": 253,
   "metadata": {},
   "outputs": [],
   "source": [
    "axes = 'sxyz'\n",
    "(roll, pitch, yaw) = tf.transformations.euler_from_quaternion(\n",
    "                [-0.16599,0.63716,0.6814,0.319637],axes=axes)\n",
    "trans_mat_0_6 = tf.transformations.euler_matrix(roll,pitch,yaw,axes=axes)"
   ]
  },
  {
   "cell_type": "code",
   "execution_count": 254,
   "metadata": {},
   "outputs": [
    {
     "data": {
      "text/plain": [
       "array([[-0.74055884, -0.64712612,  0.18110877,  0.        ],\n",
       "       [ 0.22407708,  0.01628205,  0.9744354 ,  0.        ],\n",
       "       [-0.63353143,  0.76220908,  0.13294832,  0.        ],\n",
       "       [ 0.        ,  0.        ,  0.        ,  1.        ]])"
      ]
     },
     "execution_count": 254,
     "metadata": {},
     "output_type": "execute_result"
    }
   ],
   "source": [
    "trans_mat_0_6"
   ]
  },
  {
   "cell_type": "code",
   "execution_count": 255,
   "metadata": {},
   "outputs": [
    {
     "data": {
      "text/plain": [
       "Matrix([\n",
       "[0.181108773452352,   0.647126122083639, -0.740558839185365,   0],\n",
       "[0.974435404342371, -0.0162820483820027,  0.224077079739553,   0],\n",
       "[0.132948316810348,  -0.762209076971323, -0.633531426244838,   0],\n",
       "[                0,                   0,                  0, 1.0]])"
      ]
     },
     "execution_count": 255,
     "metadata": {},
     "output_type": "execute_result"
    }
   ],
   "source": [
    "trans_mat_0_6 = Matrix(trans_mat_0_6) * R_corr\n",
    "trans_mat_0_6"
   ]
  },
  {
   "cell_type": "code",
   "execution_count": 256,
   "metadata": {},
   "outputs": [
    {
     "name": "stdout",
     "output_type": "stream",
     "text": [
      "Matrix([[0.667643328273166], [-2.44720535516108], [1.25139002215219]])\n"
     ]
    }
   ],
   "source": [
    "t0g = Matrix(trans_mat_0_6)\n",
    "t0g[0,3] = 0.443254\n",
    "t0g[1,3] = -2.37931\n",
    "t0g[2,3] = 1.05943\n",
    "t0g\n",
    "n = t0g[:-1,2:3]\n",
    "p = t0g[:-1,3:4]\n",
    "\n",
    "# # multiply for the length \n",
    "n = 0.303 * n\n",
    "wc = p - n\n",
    "wc\n",
    "print wc"
   ]
  },
  {
   "cell_type": "markdown",
   "metadata": {},
   "source": [
    "## Calculate q1, q2, q3"
   ]
  },
  {
   "cell_type": "code",
   "execution_count": null,
   "metadata": {
    "collapsed": true
   },
   "outputs": [],
   "source": []
  }
 ],
 "metadata": {
  "kernelspec": {
   "display_name": "Python 2",
   "language": "python",
   "name": "python2"
  },
  "language_info": {
   "codemirror_mode": {
    "name": "ipython",
    "version": 2
   },
   "file_extension": ".py",
   "mimetype": "text/x-python",
   "name": "python",
   "nbconvert_exporter": "python",
   "pygments_lexer": "ipython2",
   "version": "2.7.12"
  }
 },
 "nbformat": 4,
 "nbformat_minor": 2
}
